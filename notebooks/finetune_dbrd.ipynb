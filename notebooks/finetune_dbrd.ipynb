{
 "cells": [
  {
   "cell_type": "code",
   "execution_count": 1,
   "metadata": {},
   "outputs": [],
   "source": [
    "from transformers import RobertaTokenizer, RobertaForSequenceClassification\n",
    "from torch.utils.data import DataLoader, Dataset, RandomSampler, SequentialSampler\n",
    "import torch\n",
    "from tqdm import tqdm, trange\n",
    "\n",
    "import logging\n",
    "logging.basicConfig(level=logging.INFO)\n",
    "\n",
    "import pandas as pd\n",
    "import numpy as np\n",
    "\n",
    "from torch.utils.data import DataLoader, RandomSampler, SequentialSampler, TensorDataset\n",
    "\n",
    "import matplotlib.pyplot as plt\n",
    "from sklearn.metrics import confusion_matrix\n",
    "import itertools\n",
    "from pycm import ConfusionMatrix\n",
    "\n",
    "import os\n",
    "import sys\n",
    "sys.path.insert(0, os.path.abspath(os.path.join('..')))\n",
    "from src.train import Train as RobBERTTrainer\n",
    "from src.textdataset import TextDataset, load_and_cache_examples"
   ]
  },
  {
   "cell_type": "code",
   "execution_count": 2,
   "metadata": {},
   "outputs": [
    {
     "name": "stderr",
     "output_type": "stream",
     "text": [
      "INFO:transformers.tokenization_utils:Model name 'pdelobelle/robBERT-base' not found in model shortcut name list (roberta-base, roberta-large, roberta-large-mnli, distilroberta-base, roberta-base-openai-detector, roberta-large-openai-detector). Assuming 'pdelobelle/robBERT-base' is a path or url to a directory containing tokenizer files.\n",
      "INFO:transformers.tokenization_utils:Didn't find file pdelobelle/robBERT-base/added_tokens.json. We won't load it.\n",
      "INFO:transformers.tokenization_utils:Didn't find file pdelobelle/robBERT-base/special_tokens_map.json. We won't load it.\n",
      "INFO:transformers.tokenization_utils:Didn't find file pdelobelle/robBERT-base/tokenizer_config.json. We won't load it.\n",
      "INFO:transformers.tokenization_utils:loading file https://s3.amazonaws.com/models.huggingface.co/bert/pdelobelle/robBERT-base/vocab.json from cache at /home/pieterd/.cache/torch/transformers/dc380186a811c183c3e4c18f48dcb0ccc43b3911653369b7e5ed1b4c6d248931.6a4061e8fc00057d21d80413635a86fdcf55b6e7594ad9e25257d2f99a02f4be\n",
      "INFO:transformers.tokenization_utils:loading file https://s3.amazonaws.com/models.huggingface.co/bert/pdelobelle/robBERT-base/merges.txt from cache at /home/pieterd/.cache/torch/transformers/e5cbecfea4fc4f89fc09c0cb9c97c6093599463446706de81f575ffd1b19deb2.70bec105b4158ed9a1747fea67a43f5dee97855c64d62b6ec3742f4cfdb5feda\n",
      "INFO:transformers.tokenization_utils:loading file None\n",
      "INFO:transformers.tokenization_utils:loading file None\n",
      "INFO:transformers.tokenization_utils:loading file None\n"
     ]
    }
   ],
   "source": [
    "tokenizer = RobertaTokenizer.from_pretrained(\"pdelobelle/robBERT-base\")"
   ]
  },
  {
   "cell_type": "code",
   "execution_count": 3,
   "metadata": {},
   "outputs": [
    {
     "name": "stderr",
     "output_type": "stream",
     "text": [
      "INFO:transformers.configuration_utils:loading configuration file https://s3.amazonaws.com/models.huggingface.co/bert/pdelobelle/robBERT-base/config.json from cache at /home/pieterd/.cache/torch/transformers/09385ae6c6a71a27f2346100bcf0141e76ca5a72ef7e0846896a07aee8ed222d.872fe2c2b52cd0be8c1ae8dd04936b8c14d0eefbe8505d0d63c4076a024ed003\n",
      "INFO:transformers.configuration_utils:Model config {\n",
      "  \"attention_probs_dropout_prob\": 0.1,\n",
      "  \"finetuning_task\": null,\n",
      "  \"hidden_act\": \"gelu\",\n",
      "  \"hidden_dropout_prob\": 0.1,\n",
      "  \"hidden_size\": 768,\n",
      "  \"id2label\": {\n",
      "    \"0\": \"LABEL_0\",\n",
      "    \"1\": \"LABEL_1\"\n",
      "  },\n",
      "  \"initializer_range\": 0.02,\n",
      "  \"intermediate_size\": 3072,\n",
      "  \"is_decoder\": false,\n",
      "  \"label2id\": {\n",
      "    \"LABEL_0\": 0,\n",
      "    \"LABEL_1\": 1\n",
      "  },\n",
      "  \"layer_norm_eps\": 1e-05,\n",
      "  \"max_position_embeddings\": 514,\n",
      "  \"num_attention_heads\": 12,\n",
      "  \"num_hidden_layers\": 12,\n",
      "  \"num_labels\": 2,\n",
      "  \"output_attentions\": false,\n",
      "  \"output_hidden_states\": false,\n",
      "  \"output_past\": true,\n",
      "  \"pruned_heads\": {},\n",
      "  \"torchscript\": false,\n",
      "  \"type_vocab_size\": 1,\n",
      "  \"use_bfloat16\": false,\n",
      "  \"vocab_size\": 50265\n",
      "}\n",
      "\n",
      "INFO:transformers.modeling_utils:loading weights file https://s3.amazonaws.com/models.huggingface.co/bert/pdelobelle/robBERT-base/pytorch_model.bin from cache at /home/pieterd/.cache/torch/transformers/a486cfc21a11b156d73aa28303ea569aecf93e9f24b223c0c9738c0d532812f7.e57a33d420083e3f2f2027797e1accb95d3692603e543ab6de958b9c9ddb2d08\n",
      "INFO:root:loaded RobBERT\n"
     ]
    }
   ],
   "source": [
    "model = RobertaForSequenceClassification.from_pretrained(\"pdelobelle/robBERT-base\")\n",
    "logging.info(\"loaded RobBERT\")"
   ]
  },
  {
   "cell_type": "markdown",
   "metadata": {},
   "source": [
    "## Create a training config"
   ]
  },
  {
   "cell_type": "code",
   "execution_count": 4,
   "metadata": {},
   "outputs": [],
   "source": [
    "from src.train_config import Config\n",
    "config = Config()\n",
    "config.evaluate_dataset = \"../data/processed/dbrd/eval\""
   ]
  },
  {
   "cell_type": "markdown",
   "metadata": {},
   "source": [
    "## Load in the data\n",
    "We use `load_and_cache_examples` to load in the training data, this will produce a tokenized version with torch tensors.\n",
    "\n",
    "For the test and evaluation sets, we'll use the following `evaluate` function, since we're in the end interested in a dataframe with all inputs and predictions."
   ]
  },
  {
   "cell_type": "code",
   "execution_count": 5,
   "metadata": {},
   "outputs": [],
   "source": [
    "def evaluate(dataset, model):\n",
    "    df = pd.read_table(dataset + \".labels.txt\", header=None, names=['labels'])\n",
    "    df['sentence'] = pd.read_table(dataset + \".sentences.txt\", header=None, names=['sentence'])\n",
    "    model.eval() # disable dropout etc.\n",
    "    \n",
    "    mask_padding_with_zero = True\n",
    "    block_size = 512\n",
    "    results = []\n",
    "    for row in tqdm(df.iterrows(), total=len(df), mininterval=1, position=1, leave=True):\n",
    "        index = row[0]\n",
    "        sentence = row[1]['sentence']\n",
    "        label = row[1]['labels']\n",
    "\n",
    "        #tokens = roberta.encode(sentence)\n",
    "\n",
    "        tokenized_text = tokenizer.encode(tokenizer.tokenize(sentence)[- block_size + 3 : -1])\n",
    "\n",
    "        input_mask = [1 if mask_padding_with_zero else 0] * len(tokenized_text)\n",
    "\n",
    "        pad_token = tokenizer.convert_tokens_to_ids(tokenizer.pad_token)\n",
    "        while len(tokenized_text) < block_size:\n",
    "            tokenized_text.append(pad_token)\n",
    "            input_mask.append(0 if mask_padding_with_zero else 1)\n",
    "            #segment_ids.append(pad_token_segment_id)\n",
    "            #p_mask.append(1)\n",
    "\n",
    "        #self.examples.append([tokenizer.build_inputs_with_special_tokens(tokenized_text[0 : block_size]), [0], [0]])\n",
    "        batch = tuple(torch.tensor(t).to(torch.device(\"cuda\")) for t in [tokenized_text[0 : block_size - 3], input_mask[0 : block_size- 3], [0], [1] if label else [0]])\n",
    "        inputs = {\"input_ids\": batch[0].unsqueeze(0), \"attention_mask\": batch[1].unsqueeze(0), \"labels\": batch[3].unsqueeze(0)}\n",
    "        with torch.no_grad():\n",
    "            outputs = model(**inputs)\n",
    "\n",
    "            results.append({\"true\": label, \"predicted\": outputs[1][0].argmax().item()})\n",
    "\n",
    "    model.train() # make sure the model is back in training mode\n",
    "    return results"
   ]
  },
  {
   "cell_type": "code",
   "execution_count": 6,
   "metadata": {},
   "outputs": [
    {
     "name": "stderr",
     "output_type": "stream",
     "text": [
      "INFO:src.textdataset:Creating features from dataset file at ../data/processed/dbrd\n",
      "INFO:src.textdataset:Saving features into cached file ../data/processed/dbrd/roberta_cached_lm_512_train\n"
     ]
    }
   ],
   "source": [
    "train_dataset = load_and_cache_examples(\"roberta\", tokenizer, \"../data/processed/dbrd/train\")"
   ]
  },
  {
   "cell_type": "code",
   "execution_count": 7,
   "metadata": {},
   "outputs": [
    {
     "name": "stderr",
     "output_type": "stream",
     "text": [
      "INFO:root:Put RobBERT in training mode\n"
     ]
    }
   ],
   "source": [
    "model.train()\n",
    "logging.info(\"Put RobBERT in training mode\")"
   ]
  },
  {
   "cell_type": "code",
   "execution_count": 8,
   "metadata": {},
   "outputs": [],
   "source": [
    "# You can use the following code to adjust the training size to experiment with the benefits of pretraining. It will not likely get better though ...\n",
    "#train_dataset.examples  = train_dataset.examples[:100]"
   ]
  },
  {
   "cell_type": "code",
   "execution_count": 9,
   "metadata": {},
   "outputs": [
    {
     "name": "stderr",
     "output_type": "stream",
     "text": [
      "INFO:src.train:***** Running training *****\n",
      "INFO:src.train:  Num examples = 19528\n",
      "INFO:src.train:  Num Epochs = 2\n",
      "INFO:src.train:  Instantaneous batch size per GPU = 4\n",
      "INFO:src.train:  Total train batch size (w. parallel, distributed & accumulation) = 16\n",
      "INFO:src.train:  Gradient Accumulation steps = 1\n",
      "INFO:src.train:  Total optimization steps = 2000\n",
      "Iteration:   0%|          | 0/1221 [00:00<?, ?it/s]/cw/dtaijupiter/NoCsBack/dtai/pieterd/miniconda3/envs/torch/lib/python3.7/site-packages/torch/nn/parallel/_functions.py:61: UserWarning: Was asked to gather along dimension 0, but all input tensors were scalars; will instead unsqueeze and return a vector.\n",
      "  warnings.warn('Was asked to gather along dimension 0, but all '\n",
      "Iteration: 100%|██████████| 1221/1221 [12:57<00:00,  1.61it/s, learning_rate=2.23e-5, loss=0.0101, step=1221] \n",
      "\n",
      "  0%|          | 0/500 [00:00<?, ?it/s]\u001b[A\n",
      "  6%|▌         | 31/500 [00:01<00:15, 30.63it/s]\u001b[A\n",
      " 11%|█         | 56/500 [00:02<00:15, 28.40it/s]\u001b[A\n",
      " 18%|█▊        | 89/500 [00:03<00:13, 29.43it/s]\u001b[A\n",
      " 24%|██▍       | 122/500 [00:04<00:12, 30.28it/s]\u001b[A\n",
      " 31%|███       | 155/500 [00:05<00:11, 30.98it/s]\u001b[A\n",
      " 38%|███▊      | 188/500 [00:06<00:09, 31.46it/s]\u001b[A\n",
      " 44%|████▍     | 221/500 [00:07<00:08, 31.85it/s]\u001b[A\n",
      " 51%|█████     | 254/500 [00:08<00:07, 31.98it/s]\u001b[A\n",
      " 57%|█████▋    | 287/500 [00:09<00:06, 32.03it/s]\u001b[A\n",
      " 64%|██████▍   | 319/500 [00:10<00:05, 32.00it/s]\u001b[A\n",
      " 70%|███████   | 352/500 [00:11<00:04, 32.12it/s]\u001b[A\n",
      " 77%|███████▋  | 384/500 [00:12<00:03, 31.98it/s]\u001b[A\n",
      " 83%|████████▎ | 417/500 [00:13<00:02, 32.00it/s]\u001b[A\n",
      " 90%|████████▉ | 449/500 [00:14<00:01, 31.94it/s]\u001b[A\n",
      " 96%|█████████▌| 481/500 [00:15<00:00, 31.93it/s]\u001b[A\n",
      "100%|██████████| 500/500 [00:15<00:00, 31.59it/s]\u001b[AINFO:src.train:Results on eval: {'eval_f1_macro': 0.965999863999456, 'eval_acc_macro': 0.966, 'eval_acc_overall': 0.966}\n",
      "Iteration:  64%|██████▍   | 779/1221 [08:52<04:58,  1.48it/s, learning_rate=0, loss=0.197, step=2001]        \n",
      "\n"
     ]
    },
    {
     "data": {
      "text/plain": [
       "(2001, 0.227121128447015)"
      ]
     },
     "execution_count": 9,
     "metadata": {},
     "output_type": "execute_result"
    }
   ],
   "source": [
    "RobBERTTrainer.train(config, train_dataset, model, tokenizer, evaluate)"
   ]
  },
  {
   "cell_type": "markdown",
   "metadata": {},
   "source": [
    "## Evaluate our trained model"
   ]
  },
  {
   "cell_type": "code",
   "execution_count": 10,
   "metadata": {},
   "outputs": [
    {
     "name": "stderr",
     "output_type": "stream",
     "text": [
      "INFO:root:putting model in eval mode\n"
     ]
    }
   ],
   "source": [
    "model.eval()\n",
    "logging.info(\"putting model in eval mode\")"
   ]
  },
  {
   "cell_type": "code",
   "execution_count": 11,
   "metadata": {},
   "outputs": [
    {
     "name": "stderr",
     "output_type": "stream",
     "text": [
      "\n",
      "  0%|          | 0/2224 [00:00<?, ?it/s]\u001b[A\n",
      "  2%|▏         | 40/2224 [00:01<00:55, 39.21it/s]\u001b[A\n",
      "  4%|▎         | 82/2224 [00:02<00:53, 39.87it/s]\u001b[A\n",
      "  6%|▌         | 124/2224 [00:03<00:52, 40.34it/s]\u001b[A\n",
      "  7%|▋         | 166/2224 [00:04<00:50, 40.56it/s]\u001b[A\n",
      "  9%|▉         | 207/2224 [00:05<00:49, 40.64it/s]\u001b[A\n",
      " 11%|█         | 249/2224 [00:06<00:48, 40.82it/s]\u001b[A\n",
      " 13%|█▎        | 290/2224 [00:07<00:47, 40.74it/s]\u001b[A\n",
      " 15%|█▍        | 332/2224 [00:08<00:46, 41.02it/s]\u001b[A\n",
      " 17%|█▋        | 373/2224 [00:09<00:45, 41.01it/s]\u001b[A\n",
      " 19%|█▊        | 415/2224 [00:10<00:44, 41.08it/s]\u001b[A\n",
      " 21%|██        | 457/2224 [00:11<00:42, 41.13it/s]\u001b[A\n",
      " 22%|██▏       | 498/2224 [00:12<00:42, 41.07it/s]\u001b[A\n",
      " 24%|██▍       | 540/2224 [00:13<00:40, 41.11it/s]\u001b[A\n",
      " 26%|██▌       | 582/2224 [00:14<00:39, 41.16it/s]\u001b[A\n",
      " 28%|██▊       | 624/2224 [00:15<00:38, 41.27it/s]\u001b[A\n",
      " 30%|██▉       | 666/2224 [00:16<00:37, 41.20it/s]\u001b[A\n",
      " 32%|███▏      | 708/2224 [00:17<00:36, 41.08it/s]\u001b[A\n",
      " 34%|███▎      | 750/2224 [00:18<00:35, 41.18it/s]\u001b[A\n",
      " 36%|███▌      | 792/2224 [00:19<00:34, 41.01it/s]\u001b[A\n",
      " 38%|███▊      | 834/2224 [00:20<00:33, 41.02it/s]\u001b[A\n",
      " 39%|███▉      | 875/2224 [00:21<00:32, 41.01it/s]\u001b[A\n",
      " 41%|████      | 916/2224 [00:22<00:31, 41.01it/s]\u001b[A\n",
      " 43%|████▎     | 958/2224 [00:23<00:30, 41.04it/s]\u001b[A\n",
      " 45%|████▍     | 1000/2224 [00:24<00:29, 41.01it/s]\u001b[A\n",
      " 47%|████▋     | 1042/2224 [00:25<00:28, 41.05it/s]\u001b[A\n",
      " 49%|████▊     | 1084/2224 [00:26<00:27, 41.08it/s]\u001b[A\n",
      " 51%|█████     | 1126/2224 [00:27<00:26, 41.23it/s]\u001b[A\n",
      " 53%|█████▎    | 1168/2224 [00:28<00:25, 41.20it/s]\u001b[A\n",
      " 54%|█████▍    | 1210/2224 [00:29<00:24, 41.22it/s]\u001b[A\n",
      " 56%|█████▋    | 1252/2224 [00:30<00:23, 41.17it/s]\u001b[A\n",
      " 58%|█████▊    | 1294/2224 [00:31<00:22, 41.08it/s]\u001b[A\n",
      " 60%|██████    | 1336/2224 [00:32<00:21, 41.20it/s]\u001b[A\n",
      " 62%|██████▏   | 1378/2224 [00:33<00:20, 41.36it/s]\u001b[A\n",
      " 64%|██████▍   | 1420/2224 [00:34<00:19, 41.31it/s]\u001b[A\n",
      " 66%|██████▌   | 1462/2224 [00:35<00:18, 41.29it/s]\u001b[A\n",
      " 68%|██████▊   | 1504/2224 [00:36<00:17, 41.48it/s]\u001b[A\n",
      " 70%|██████▉   | 1546/2224 [00:37<00:16, 41.32it/s]\u001b[A\n",
      " 71%|███████▏  | 1588/2224 [00:38<00:15, 41.32it/s]\u001b[A\n",
      " 73%|███████▎  | 1630/2224 [00:39<00:14, 41.09it/s]\u001b[A\n",
      " 75%|███████▌  | 1672/2224 [00:40<00:13, 41.08it/s]\u001b[A\n",
      " 77%|███████▋  | 1714/2224 [00:41<00:12, 41.01it/s]\u001b[A\n",
      " 79%|███████▉  | 1756/2224 [00:42<00:11, 40.89it/s]\u001b[A\n",
      " 81%|████████  | 1798/2224 [00:43<00:10, 40.99it/s]\u001b[A\n",
      " 83%|████████▎ | 1839/2224 [00:44<00:09, 40.80it/s]\u001b[A\n",
      " 85%|████████▍ | 1880/2224 [00:45<00:08, 40.78it/s]\u001b[A\n",
      " 86%|████████▋ | 1922/2224 [00:46<00:07, 40.95it/s]\u001b[A\n",
      " 88%|████████▊ | 1963/2224 [00:47<00:06, 40.90it/s]\u001b[A\n",
      " 90%|█████████ | 2005/2224 [00:48<00:05, 41.00it/s]\u001b[A\n",
      " 92%|█████████▏| 2046/2224 [00:49<00:04, 40.96it/s]\u001b[A\n",
      " 94%|█████████▍| 2088/2224 [00:50<00:03, 41.07it/s]\u001b[A\n",
      " 96%|█████████▌| 2130/2224 [00:51<00:02, 40.99it/s]\u001b[A\n",
      " 98%|█████████▊| 2171/2224 [00:52<00:01, 40.96it/s]\u001b[A\n",
      " 99%|█████████▉| 2212/2224 [00:53<00:00, 40.87it/s]\u001b[A\n",
      "100%|██████████| 2224/2224 [00:54<00:00, 41.06it/s]\u001b[A"
     ]
    }
   ],
   "source": [
    "results = pd.DataFrame(evaluate(\"../data/processed/dbrd/test\", model))"
   ]
  },
  {
   "cell_type": "code",
   "execution_count": 12,
   "metadata": {},
   "outputs": [],
   "source": [
    "import matplotlib.pyplot as plt\n",
    "def plot_confusion_matrix(cm, classes,\n",
    "                          normalize=False,\n",
    "                          title='Confusion matrix',\n",
    "                          cmap=plt.cm.Blues):\n",
    "    \"\"\"\n",
    "    This function prints and plots the confusion matrix.\n",
    "    Normalization can be applied by setting `normalize=True`.\n",
    "    \"\"\"\n",
    "    if normalize:\n",
    "        cm = cm.astype('float') / cm.sum(axis=1)[:, np.newaxis]\n",
    "        print(\"Normalized confusion matrix\")\n",
    "    else:\n",
    "        print('Confusion matrix, without normalization')\n",
    "\n",
    "    print(cm)\n",
    "\n",
    "    plt.imshow(cm, interpolation='nearest', cmap=cmap, vmin=0, aspect=\"equal\")\n",
    "    plt.title(title)\n",
    "    plt.colorbar()\n",
    "    tick_marks = np.arange(len(classes))\n",
    "    plt.xticks(tick_marks, classes, rotation=45)\n",
    "    plt.yticks(tick_marks, classes)\n",
    "    plt.ylim(len(tick_marks) - 0.5, -0.5)\n",
    "    \n",
    "    fmt = '.2f' if normalize else 'd'\n",
    "    thresh = cm.max() / 2.\n",
    "    \n",
    "    for i, j in itertools.product(range(cm.shape[0]), range(cm.shape[1])):\n",
    "        plt.text(j, i, format(cm[i, j], fmt),\n",
    "                 horizontalalignment=\"center\",\n",
    "                 color=\"white\" if cm[i, j] > thresh else \"black\")\n",
    "        \n",
    "    plt.tight_layout()\n",
    "    plt.ylabel('True label')\n",
    "    plt.xlabel('Predicted label')"
   ]
  },
  {
   "cell_type": "code",
   "execution_count": 13,
   "metadata": {},
   "outputs": [
    {
     "name": "stdout",
     "output_type": "stream",
     "text": [
      "Confusion matrix, without normalization\n",
      "[[1030   82]\n",
      " [  57 1055]]\n"
     ]
    },
    {
     "data": {
      "image/png": "[encoded data removed]",
      "text/plain": [
       "<Figure size 500x500 with 2 Axes>"
      ]
     },
     "metadata": {
      "needs_background": "light"
     },
     "output_type": "display_data"
    }
   ],
   "source": [
    "cnf_matrix = confusion_matrix(results['true'], results['predicted'] ) # index to evaluate partial runs\n",
    "\n",
    "np.set_printoptions(precision=2)\n",
    "\n",
    "title=\"Confusion matrix\"\n",
    "\n",
    "# Plot normalized confusion matrix\n",
    "fig = plt.figure(figsize=(5,5), dpi=100)\n",
    "#fig.set_size_inches(6,6)\n",
    "\n",
    "plot_confusion_matrix(cnf_matrix, classes=[\"Negative\", \"Positive\"],normalize=False, \n",
    "                      title=title, cmap=plt.cm.Blues)\n"
   ]
  },
  {
   "cell_type": "code",
   "execution_count": 14,
   "metadata": {},
   "outputs": [],
   "source": [
    "cm = ConfusionMatrix(actual_vector=results['true'].values, predict_vector=results['predicted'].values )"
   ]
  },
  {
   "cell_type": "code",
   "execution_count": 15,
   "metadata": {},
   "outputs": [
    {
     "name": "stdout",
     "output_type": "stream",
     "text": [
      "Overall Statistics : \n",
      "\n",
      "95% CI                                                            (0.92744,0.94756)\n",
      "ACC Macro                                                         0.9375\n",
      "AUNP                                                              0.9375\n",
      "AUNU                                                              0.9375\n",
      "Bennett S                                                         0.875\n",
      "CBA                                                               0.92707\n",
      "CSI                                                               0.87522\n",
      "Chi-Squared                                                       1703.61107\n",
      "Chi-Squared DF                                                    1\n",
      "Conditional Entropy                                               0.33573\n",
      "Cramer V                                                          0.87522\n",
      "Cross Entropy                                                     1.00036\n",
      "F1 Macro                                                          0.93749\n",
      "F1 Micro                                                          0.9375\n",
      "Gwet AC1                                                          0.87502\n",
      "Hamming Loss                                                      0.0625\n",
      "Joint Entropy                                                     1.33573\n",
      "KL Divergence                                                     0.00036\n",
      "Kappa                                                             0.875\n",
      "Kappa 95% CI                                                      (0.85488,0.89512)\n",
      "Kappa No Prevalence                                               0.875\n",
      "Kappa Standard Error                                              0.01027\n",
      "Kappa Unbiased                                                    0.87498\n",
      "Lambda A                                                          0.875\n",
      "Lambda B                                                          0.87213\n",
      "Mutual Information                                                0.66391\n",
      "NIR                                                               0.5\n",
      "Overall ACC                                                       0.9375\n",
      "Overall CEN                                                       0.31103\n",
      "Overall J                                                         (1.76468,0.88234)\n",
      "Overall MCC                                                       0.87522\n",
      "Overall MCEN                                                      0.254\n",
      "Overall RACC                                                      0.5\n",
      "Overall RACCU                                                     0.50006\n",
      "P-Value                                                           None\n",
      "PPV Macro                                                         0.93772\n",
      "PPV Micro                                                         0.9375\n",
      "Pearson C                                                         0.6586\n",
      "Phi-Squared                                                       0.76601\n",
      "RCI                                                               0.66391\n",
      "RR                                                                1112.0\n",
      "Reference Entropy                                                 1.0\n",
      "Response Entropy                                                  0.99964\n",
      "SOA1(Landis & Koch)                                               Almost Perfect\n",
      "SOA2(Fleiss)                                                      Excellent\n",
      "SOA3(Altman)                                                      Very Good\n",
      "SOA4(Cicchetti)                                                   Excellent\n",
      "SOA5(Cramer)                                                      Very Strong\n",
      "SOA6(Matthews)                                                    Strong\n",
      "Scott PI                                                          0.87498\n",
      "Standard Error                                                    0.00513\n",
      "TPR Macro                                                         0.9375\n",
      "TPR Micro                                                         0.9375\n",
      "Zero-one Loss                                                     139\n",
      "\n",
      "Class Statistics :\n",
      "\n",
      "Classes                                                           0             1             \n",
      "ACC(Accuracy)                                                     0.9375        0.9375        \n",
      "AGF(Adjusted F-score)                                             0.93121       0.94386       \n",
      "AGM(Adjusted geometric mean)                                      0.9412        0.93371       \n",
      "AM(Difference between automatic and manual classification)        -25           25            \n",
      "AUC(Area under the ROC curve)                                     0.9375        0.9375        \n",
      "AUCI(AUC value interpretation)                                    Excellent     Excellent     \n",
      "AUPR(Area under the PR curve)                                     0.93691       0.93831       \n",
      "BCD(Bray-Curtis dissimilarity)                                    0.00562       0.00562       \n",
      "BM(Informedness or bookmaker informedness)                        0.875         0.875         \n",
      "CEN(Confusion entropy)                                            0.31354       0.30857       \n",
      "DOR(Diagnostic odds ratio)                                        232.48823     232.48823     \n",
      "DP(Discriminant power)                                            1.30467       1.30467       \n",
      "DPI(Discriminant power interpretation)                            Limited       Limited       \n",
      "ERR(Error rate)                                                   0.0625        0.0625        \n",
      "F0.5(F0.5 score)                                                  0.94322       0.93198       \n",
      "F1(F1 score - harmonic mean of precision and sensitivity)         0.93679       0.93819       \n",
      "F2(F2 score)                                                      0.93044       0.94449       \n",
      "FDR(False discovery rate)                                         0.05244       0.07212       \n",
      "FN(False negative/miss/type 2 error)                              82            57            \n",
      "FNR(Miss rate or false negative rate)                             0.07374       0.05126       \n",
      "FOR(False omission rate)                                          0.07212       0.05244       \n",
      "FP(False positive/type 1 error/false alarm)                       57            82            \n",
      "FPR(Fall-out or false positive rate)                              0.05126       0.07374       \n",
      "G(G-measure geometric mean of precision and sensitivity)          0.93685       0.93825       \n",
      "GI(Gini index)                                                    0.875         0.875         \n",
      "GM(G-mean geometric mean of specificity and sensitivity)          0.93743       0.93743       \n",
      "IBA(Index of balanced accuracy)                                   0.85902       0.89854       \n",
      "ICSI(Individual classification success index)                     0.87382       0.87662       \n",
      "IS(Information score)                                             0.92229       0.89201       \n",
      "J(Jaccard index)                                                  0.88109       0.88358       \n",
      "LS(Lift score)                                                    1.89512       1.85576       \n",
      "MCC(Matthews correlation coefficient)                             0.87522       0.87522       \n",
      "MCCI(Matthews correlation coefficient interpretation)             Strong        Strong        \n",
      "MCEN(Modified confusion entropy)                                  0.48141       0.47488       \n",
      "MK(Markedness)                                                    0.87544       0.87544       \n",
      "N(Condition negative)                                             1112          1112          \n",
      "NLR(Negative likelihood ratio)                                    0.07773       0.05534       \n",
      "NLRI(Negative likelihood ratio interpretation)                    Good          Good          \n",
      "NPV(Negative predictive value)                                    0.92788       0.94756       \n",
      "OC(Overlap coefficient)                                           0.94756       0.94874       \n",
      "OOC(Otsuka-Ochiai coefficient)                                    0.93685       0.93825       \n",
      "OP(Optimized precision)                                           0.92551       0.92551       \n",
      "P(Condition positive or support)                                  1112          1112          \n",
      "PLR(Positive likelihood ratio)                                    18.07018      12.86585      \n",
      "PLRI(Positive likelihood ratio interpretation)                    Good          Good          \n",
      "POP(Population)                                                   2224          2224          \n",
      "PPV(Precision or positive predictive value)                       0.94756       0.92788       \n",
      "PRE(Prevalence)                                                   0.5           0.5           \n",
      "Q(Yule Q - coefficient of colligation)                            0.99143       0.99143       \n",
      "RACC(Random accuracy)                                             0.24438       0.25562       \n",
      "RACCU(Random accuracy unbiased)                                   0.24441       0.25565       \n",
      "TN(True negative/correct rejection)                               1055          1030          \n",
      "TNR(Specificity or true negative rate)                            0.94874       0.92626       \n",
      "TON(Test outcome negative)                                        1137          1087          \n",
      "TOP(Test outcome positive)                                        1087          1137          \n",
      "TP(True positive/hit)                                             1030          1055          \n",
      "TPR(Sensitivity, recall, hit rate, or true positive rate)         0.92626       0.94874       \n",
      "Y(Youden index)                                                   0.875         0.875         \n",
      "dInd(Distance index)                                              0.08981       0.08981       \n",
      "sInd(Similarity index)                                            0.9365        0.9365        \n",
      "\n"
     ]
    }
   ],
   "source": [
    "cm.stat()"
   ]
  },
  {
   "cell_type": "markdown",
   "metadata": {},
   "source": [
    "## Saving the model"
   ]
  },
  {
   "cell_type": "code",
   "execution_count": null,
   "metadata": {},
   "outputs": [],
   "source": [
    "from transformers import WEIGHTS_NAME, CONFIG_NAME\n",
    "\n",
    "output_dir = \"./dbrd/\"\n",
    "\n",
    "# Step 1: Save a model, configuration and vocabulary that you have fine-tuned\n",
    "\n",
    "# If we have a distributed model, save only the encapsulated model\n",
    "# (it was wrapped in PyTorch DistributedDataParallel or DataParallel)\n",
    "model_to_save = model.module if hasattr(model, 'module') else model\n",
    "\n",
    "# If we save using the predefined names, we can load using `from_pretrained`\n",
    "output_model_file = os.path.join(output_dir, WEIGHTS_NAME)\n",
    "output_config_file = os.path.join(output_dir, CONFIG_NAME)\n",
    "\n",
    "torch.save(model_to_save.state_dict(), output_model_file)\n",
    "model_to_save.config.to_json_file(output_config_file)\n",
    "tokenizer.save_vocabulary(output_dir)"
   ]
  },
  {
   "cell_type": "code",
   "execution_count": null,
   "metadata": {},
   "outputs": [],
   "source": []
  }
 ],
 "metadata": {
  "kernelspec": {
   "display_name": "Python 3",
   "language": "python",
   "name": "python3"
  },
  "language_info": {
   "codemirror_mode": {
    "name": "ipython",
    "version": 3
   },
   "file_extension": ".py",
   "mimetype": "text/x-python",
   "name": "python",
   "nbconvert_exporter": "python",
   "pygments_lexer": "ipython3",
   "version": "3.7.4"
  }
 },
 "nbformat": 4,
 "nbformat_minor": 4
}
