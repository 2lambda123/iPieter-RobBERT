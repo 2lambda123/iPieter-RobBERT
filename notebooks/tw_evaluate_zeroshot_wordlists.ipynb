{
 "cells": [
  {
   "cell_type": "code",
   "execution_count": 1,
   "metadata": {
    "collapsed": true,
    "pycharm": {
     "is_executing": false
    }
   },
   "outputs": [],
   "source": [
    "from fairseq.models.roberta import RobertaModel\n",
    "from src import evaluate_zeroshot_wordlist"
   ]
  },
  {
   "cell_type": "code",
   "execution_count": 2,
   "outputs": [
    {
     "name": "stdout",
     "text": [
      "loading archive file ../models/berdt\n",
      "| dictionary: 50264 types\n",
      "berdt is loaded\n"
     ],
     "output_type": "stream"
    }
   ],
   "source": [
    "berdt = RobertaModel.from_pretrained(\n",
    "    '../models/berdt',\n",
    "    checkpoint_file='model.pt'\n",
    ")\n",
    "berdt.eval()\n",
    "print(\"berdt is loaded\")"
   ],
   "metadata": {
    "collapsed": false,
    "pycharm": {
     "name": "#%%\n",
     "is_executing": false
    }
   }
  },
  {
   "cell_type": "code",
   "execution_count": 3,
   "outputs": [
    {
     "name": "stdout",
     "text": [
      "98.50% / 985 / 1000 / die / die / Mijn fractie en ik hopen dat de financiële grondslag van de Unie de weg zal bereiden voor een Europese rechtsorde die de rechten en de garanties van de burgers eerbiedigt, dat wil zeggen een rechtsorde met garanties <mask> in vele staten nu helaas nog onvoldoende aanwezig zijn.\n",
      "98.40% / 1968 / 2000 / die / die / In Griekenland stellen wij - zoals blijkt uit de gegevens <mask> ik hier heb - een stijging vast van het werkgelegenheidspercentage en de productiviteit.\n",
      "98.47% / 2954 / 3000 / dat / dat / Volgens onze eerste interpretatie laat artikel 255 hoe dan ook niet toe <mask> een rechtsgrond gebruikt wordt die gevolgen kan hebben voor het subsidiariteitsbeginsel.\n",
      "98.28% / 3931 / 4000 / dat / dat / Toch ben ik van mening <mask> we op basis van het mandaat van Helsinki aan de slag kunnen . Ik had dit overigens al vlak na de Top van Helsinki in de Commissie constitutionele zaken te kennen gegeven.\n",
      "98.14% / 4907 / 5000 / dat / dat / Ik reken erop dat we in de reconciliatie tot een uitstekend resultaat komen en <mask> de inzet voor een beter leefmilieu het haalt op onredelijke industriële eisen.\n",
      "98.23% / 5894 / 6000 / dat / die / Hervorming is belangrijk maar als deze alles in duigen doet vallen en de supranationale bevoegdheden van de Commissie ondermijnt, zal zij de grondslag van de Europese integratie aantasten en <mask> onderuit halen wat de oprichters van de Europese Gemeenschap met betrekking tot de Europese Commissie voor ogen stond.\n",
      "98.10% / 6867 / 7000 / die / die / In het noorden van Europa ziet de situatie er heel anders uit dan in het zuiden terwijl die landen <mask> te maken hebben met woestijnvorming op hun beurt weer met andere problemen te kampen hebben.\n",
      "98.10% / 7848 / 8000 / die / die / Het merendeel van <mask> aanpassingen zijn gericht op pensioenen, elf beperkingen en twee verbeteringen.\n",
      "98.07% / 8826 / 9000 / dat / dat / Zoals reeds vele afgevaardigden voor mij hebben gedaan, wil ook ik beklemtonen <mask> het mensenrechtenbeleid de kern van de Europese identiteit vormt . De eerbiediging van de mensenrechten moet worden beschouwd als het basisbeginsel van de internationale samenwerking van de Europese Unie.\n",
      "98.11% / 9811 / 10000 / die / die / Naar mijn mening is de ontwerpverordening bedoeld om de definities en waarderingen van enkele van de economische factoren te actualiseren <mask> komen kijken bij de berekening van het overheidstekort overeenkomstig het Verdrag van Maastricht . Daarin is vastgelegd dat het overheidstekort van de lidstaten een bepaald percentage van hun BBP, uitgedrukt in marktprijzen, niet te boven mag gaan.\n",
      "Die/Dat: 0.9811\n"
     ],
     "output_type": "stream"
    }
   ],
   "source": [
    "die_dat_correct, die_dat_total = evaluate_zeroshot_wordlist.evaluate([\"die\", \"dat\"], model=berdt, print_step=1000)\n",
    "print(\"Die/Dat:\", die_dat_correct/die_dat_total)"
   ],
   "metadata": {
    "collapsed": false,
    "pycharm": {
     "name": "#%%\n",
     "is_executing": false
    }
   }
  },
  {
   "cell_type": "code",
   "execution_count": 4,
   "outputs": [
    {
     "name": "stdout",
     "text": [
      "63.00% / 63 / 100 / de / De / De eerder beantwoorde vragen betreffen de bijdrage van mevrouw <mask> Palacio over een ander dossier en gaan niet over de uitspraken die 18 november jongstleden in de krant ABC zijn verschenen.\n",
      "66.50% / 133 / 200 / de / de / Daar onze fractie meent dat het <mask> taak is van een parlement om te luisteren, te debatteren en na te denken, geloven wij dat er geen enkele reden is die dit uitstel rechtvaardigt . Ook menen wij dat indien de Commissie in staat is het programma te presenteren, wij zeker nog de tijd hebben om terug te komen op de oorspronkelijke afspraak tussen het Parlement en de Commissie, en tegenover onze medeburgers op verantwoordelijke wijze te werk te gaan.\n",
      "68.00% / 204 / 300 / het / de / ( Het Parlement verwerpt <mask> verzoek met 164 stemmen voor , 166 stemmen tegen en 7 onthoudingen )\n",
      "68.75% / 275 / 400 / de / de / Met onze amendementen uit <mask> eerste lezing is volgens mij in hoge mate rekening gehouden.\n",
      "69.60% / 348 / 500 / de / de / Als we kijken naar <mask> situatie voor de veiligheidsadviseurs, dan is het in een aantal landen per 1 januari van dit jaar verplicht om zo' n veiligheidsadviseur bij bedrijven te hebben.\n",
      "70.67% / 424 / 600 / de / de / Van de week houden wij hier naar aanleiding van de ramp met de Erika een debat over <mask> veiligheid van vervoer over zee, en in de loop van het jaar zullen wij over de veiligheidsdoelstellingen voor het luchtvervoer moeten debatteren.\n",
      "70.71% / 495 / 700 / de / de / Het is goed dat deze richtlijn nu wordt opgesteld, omdat de lidstaten anders hun nationale bepalingen voor zeer korte tijd, voor een overgangsperiode, zouden moeten wijzigen, wat slechts nodeloze kosten met zich meebrengt en de ergernis bij de burgers over <mask> Europese bureaucratie nog groter maakt.\n",
      "69.88% / 559 / 800 / het / de / Wij betreuren het allemaal dat het Europees Comité voor Normalisatie (CEN) niet binnen de vereiste tijd de noodzakelijke wijziging van de bepalingen heeft kunnen voltooien om tot een adequate harmonisatie in <mask> kader van de Europese Unie te komen.\n",
      "70.33% / 633 / 900 / de / de / Een tweede punt waar wij vooral vanuit het oogpunt van de industrie de aandacht aan willen schenken, is dat wij zouden willen zien dat de Commissie, wanneer zij de coördinatie van het Cohesiefonds en <mask> structuurfondsen voorbereidt, meer aandacht schenkt aan het effect van het toenemende gebruik van diensten, elektronische handel en het Internet.\n",
      "69.80% / 698 / 1000 / de / de / Hoewel de landbouw op het platteland geen exclusieve rol kan spelen, is ze wel nog steeds essentieel bij het tegengaan van de economische en sociale desintegratie van het platteland en het ontstaan van nieuwe spooksteden . Maar de landbouw is ook essentieel omdat <mask> boeren een fundamentele rol vervullen bij het beheer van het grondgebied, de instandhouding van de biodiversiteit en de bescherming van het milieu.\n",
      "De/Het: 0.698\n"
     ],
     "output_type": "stream"
    }
   ],
   "source": [
    "de_het_correct, de_het_total = evaluate_zeroshot_wordlist.evaluate([\"de\", \"het\"], model=berdt, print_step=100)\n",
    "print(\"De/Het:\", de_het_correct/de_het_total)\n",
    "\n",
    "\n"
   ],
   "metadata": {
    "collapsed": false,
    "pycharm": {
     "name": "#%%\n",
     "is_executing": false
    }
   }
  }
 ],
 "metadata": {
  "kernelspec": {
   "name": "pycharm-aa63506c",
   "language": "python",
   "display_name": "PyCharm (nl-bert)"
  },
  "language_info": {
   "codemirror_mode": {
    "name": "ipython",
    "version": 2
   },
   "file_extension": ".py",
   "mimetype": "text/x-python",
   "name": "python",
   "nbconvert_exporter": "python",
   "pygments_lexer": "ipython2",
   "version": "2.7.6"
  },
  "pycharm": {
   "stem_cell": {
    "cell_type": "raw",
    "source": [],
    "metadata": {
     "collapsed": false
    }
   }
  }
 },
 "nbformat": 4,
 "nbformat_minor": 0
}