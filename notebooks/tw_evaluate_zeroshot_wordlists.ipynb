{
 "cells": [
  {
   "cell_type": "code",
   "execution_count": 1,
   "metadata": {
    "collapsed": true,
    "pycharm": {
     "is_executing": false
    }
   },
   "outputs": [
    {
     "name": "stderr",
     "text": [
      "/usr/local/lib/python3.6/dist-packages/tensorflow/python/framework/dtypes.py:516: FutureWarning: Passing (type, 1) or '1type' as a synonym of type is deprecated; in a future version of numpy, it will be understood as (type, (1,)) / '(1,)type'.\n",
      "  _np_qint8 = np.dtype([(\"qint8\", np.int8, 1)])\n",
      "/usr/local/lib/python3.6/dist-packages/tensorflow/python/framework/dtypes.py:517: FutureWarning: Passing (type, 1) or '1type' as a synonym of type is deprecated; in a future version of numpy, it will be understood as (type, (1,)) / '(1,)type'.\n",
      "  _np_quint8 = np.dtype([(\"quint8\", np.uint8, 1)])\n",
      "/usr/local/lib/python3.6/dist-packages/tensorflow/python/framework/dtypes.py:518: FutureWarning: Passing (type, 1) or '1type' as a synonym of type is deprecated; in a future version of numpy, it will be understood as (type, (1,)) / '(1,)type'.\n",
      "  _np_qint16 = np.dtype([(\"qint16\", np.int16, 1)])\n",
      "/usr/local/lib/python3.6/dist-packages/tensorflow/python/framework/dtypes.py:519: FutureWarning: Passing (type, 1) or '1type' as a synonym of type is deprecated; in a future version of numpy, it will be understood as (type, (1,)) / '(1,)type'.\n",
      "  _np_quint16 = np.dtype([(\"quint16\", np.uint16, 1)])\n",
      "/usr/local/lib/python3.6/dist-packages/tensorflow/python/framework/dtypes.py:520: FutureWarning: Passing (type, 1) or '1type' as a synonym of type is deprecated; in a future version of numpy, it will be understood as (type, (1,)) / '(1,)type'.\n",
      "  _np_qint32 = np.dtype([(\"qint32\", np.int32, 1)])\n",
      "/usr/local/lib/python3.6/dist-packages/tensorflow/python/framework/dtypes.py:525: FutureWarning: Passing (type, 1) or '1type' as a synonym of type is deprecated; in a future version of numpy, it will be understood as (type, (1,)) / '(1,)type'.\n",
      "  np_resource = np.dtype([(\"resource\", np.ubyte, 1)])\n",
      "/usr/local/lib/python3.6/dist-packages/tensorboard/compat/tensorflow_stub/dtypes.py:541: FutureWarning: Passing (type, 1) or '1type' as a synonym of type is deprecated; in a future version of numpy, it will be understood as (type, (1,)) / '(1,)type'.\n",
      "  _np_qint8 = np.dtype([(\"qint8\", np.int8, 1)])\n",
      "/usr/local/lib/python3.6/dist-packages/tensorboard/compat/tensorflow_stub/dtypes.py:542: FutureWarning: Passing (type, 1) or '1type' as a synonym of type is deprecated; in a future version of numpy, it will be understood as (type, (1,)) / '(1,)type'.\n",
      "  _np_quint8 = np.dtype([(\"quint8\", np.uint8, 1)])\n",
      "/usr/local/lib/python3.6/dist-packages/tensorboard/compat/tensorflow_stub/dtypes.py:543: FutureWarning: Passing (type, 1) or '1type' as a synonym of type is deprecated; in a future version of numpy, it will be understood as (type, (1,)) / '(1,)type'.\n",
      "  _np_qint16 = np.dtype([(\"qint16\", np.int16, 1)])\n",
      "/usr/local/lib/python3.6/dist-packages/tensorboard/compat/tensorflow_stub/dtypes.py:544: FutureWarning: Passing (type, 1) or '1type' as a synonym of type is deprecated; in a future version of numpy, it will be understood as (type, (1,)) / '(1,)type'.\n",
      "  _np_quint16 = np.dtype([(\"quint16\", np.uint16, 1)])\n",
      "/usr/local/lib/python3.6/dist-packages/tensorboard/compat/tensorflow_stub/dtypes.py:545: FutureWarning: Passing (type, 1) or '1type' as a synonym of type is deprecated; in a future version of numpy, it will be understood as (type, (1,)) / '(1,)type'.\n",
      "  _np_qint32 = np.dtype([(\"qint32\", np.int32, 1)])\n",
      "/usr/local/lib/python3.6/dist-packages/tensorboard/compat/tensorflow_stub/dtypes.py:550: FutureWarning: Passing (type, 1) or '1type' as a synonym of type is deprecated; in a future version of numpy, it will be understood as (type, (1,)) / '(1,)type'.\n",
      "  np_resource = np.dtype([(\"resource\", np.ubyte, 1)])\n"
     ],
     "output_type": "stream"
    }
   ],
   "source": [
    "from pathlib import Path\n",
    "from fairseq.models.roberta import RobertaModel\n",
    "from src import evaluate_zeroshot_wordlist\n",
    "from src.bert_masked_lm_adapter import BertMaskedLMAdapter"
   ]
  },
  {
   "cell_type": "code",
   "execution_count": 2,
   "outputs": [
    {
     "name": "stdout",
     "text": [
      "loading archive file ../models/berdt\n",
      "| dictionary: 50264 types\n",
      "berdt is loaded\n"
     ],
     "output_type": "stream"
    }
   ],
   "source": [
    "robbert = RobertaModel.from_pretrained(\n",
    "    '../models/berdt',\n",
    "    checkpoint_file='model.pt'\n",
    ")\n",
    "robbert.eval()\n",
    "print(\"berdt is loaded\")"
   ],
   "metadata": {
    "collapsed": false,
    "pycharm": {
     "name": "#%%\n",
     "is_executing": false
    }
   }
  },
  {
   "cell_type": "code",
   "execution_count": 3,
   "outputs": [],
   "source": [
    "path = Path(\"..\", \"data\", \"processed\", \"wordlist\",\"die-dat.test.tsv\")"
   ],
   "metadata": {
    "collapsed": false,
    "pycharm": {
     "name": "#%%\n",
     "is_executing": false
    }
   }
  },
  {
   "cell_type": "code",
   "execution_count": 8,
   "outputs": [
    {
     "name": "stdout",
     "text": [
      "97.91% / 9791 / 10000 / 0 errors / die / die / Het is ook wegens de verwoestingen - afhankelijkheid, armoede, gezondheidsproblemen - <mask> drugsverslaving bij onze jongeren aanricht, dat het mij verheugt vast te stellen dat het Nederlandse voorzitterschap van de bestrijding van de internationale criminaliteit en de drugshandel een van zijn prioriteiten heeft gemaakt . Praktische samenwerking tussen de politiediensten, douanediensten en justitiële diensten om de drugshandel actief te bestrijden?\n",
      "97.91% / 19581 / 20000 / 0 errors / dat / dat / We zullen erop toezien dat wij Noorwegen en IJsland nimmer voor verrassingen of voor voldongen feiten stellen op <mask> punt.\n",
      "97.91% / 29374 / 30000 / 0 errors / dat / dat / Ook hoop ik dat Europa's industriëlen hiernaar luisteren en <mask> Total en Club Med in de voetsporen zullen treden van Heineken, Carlsberg, PepsiCo, Levi, Apple en Thomas Cook.\n",
      "97.89% / 39158 / 40000 / 0 errors / dat / dat / Ik wijs er in dit verband op <mask> een van de voorstellen die de Commissie aan de Intergouvernementele Conferentie heeft gedaan, de samensmelting betreft van de drie bestaande Gemeenschappen tot één enkele, wat zal leiden tot grotere duidelijkheid op dit gebied.\n",
      "97.85% / 48923 / 50000 / 0 errors / die / die / Het is zaak eigen Europese minimumnormen vast te stellen <mask> alleen een voldoende bescherming van passagiers, zeelieden en milieu zullen garanderen.\n",
      "97.87% / 58720 / 60000 / 0 errors / dat / dat / Zonder deze hervormingen zal de Unie verwateren . Indien de Unie wordt beroofd van sterke en coherente structuren vrees ik <mask> ze eens zal bezwijken onder de historische opdracht van de uitbreiding.\n",
      "97.85% / 68495 / 70000 / 0 errors / dat / dat / Uit het bovenstaande blijkt <mask> de begrotingsperikelen waarmee wij als Parlement kampen grotendeels het gevolg zijn van beslissingen die de Raad zelf heeft genomen.\n",
      "97.90% / 78323 / 80000 / 0 errors / dat / dat / Mijnheer de Voorzitter, ik wil hier alleen aangeven <mask> mijn naam niet op de presentielijst van gisteren voorkomt, vermoedelijk vanwege nalatigheid mijnerzijds, aangezien ik vergeten heb te tekenen.\n"
     ],
     "output_type": "stream"
    },
    {
     "traceback": [
      "\u001b[0;31m---------------------------------------------------------------------------\u001b[0m",
      "\u001b[0;31mRuntimeError\u001b[0m                              Traceback (most recent call last)",
      "\u001b[0;32m<ipython-input-8-574e779db923>\u001b[0m in \u001b[0;36m<module>\u001b[0;34m\u001b[0m\n\u001b[1;32m      1\u001b[0m die_dat_correct, die_dat_total, die_dat_errors = evaluate_zeroshot_wordlist.evaluate(\n\u001b[0;32m----> 2\u001b[0;31m     [\"die\", \"dat\"], path=path, model=berdt, print_step=10000)\n\u001b[0m\u001b[1;32m      3\u001b[0m \u001b[0mprint\u001b[0m\u001b[0;34m(\u001b[0m\u001b[0;34m\"Die/Dat:\"\u001b[0m\u001b[0;34m,\u001b[0m \u001b[0mdie_dat_correct\u001b[0m\u001b[0;34m/\u001b[0m\u001b[0mdie_dat_total\u001b[0m\u001b[0;34m,\u001b[0m \u001b[0mdie_dat_correct\u001b[0m\u001b[0;34m,\u001b[0m \u001b[0mdie_dat_total\u001b[0m\u001b[0;34m,\u001b[0m \u001b[0mdie_dat_errors\u001b[0m\u001b[0;34m)\u001b[0m\u001b[0;34m\u001b[0m\u001b[0;34m\u001b[0m\u001b[0m\n\u001b[1;32m      4\u001b[0m \u001b[0;34m\u001b[0m\u001b[0m\n",
      "\u001b[0;32m~/Repositories/robbert/src/evaluate_zeroshot_wordlist.py\u001b[0m in \u001b[0;36mevaluate\u001b[0;34m(words, path, model, print_step)\u001b[0m\n\u001b[1;32m     34\u001b[0m \u001b[0;34m\u001b[0m\u001b[0m\n\u001b[1;32m     35\u001b[0m             \u001b[0;32mtry\u001b[0m\u001b[0;34m:\u001b[0m\u001b[0;34m\u001b[0m\u001b[0;34m\u001b[0m\u001b[0m\n\u001b[0;32m---> 36\u001b[0;31m                 \u001b[0mpredicted\u001b[0m \u001b[0;34m=\u001b[0m \u001b[0mwordlistfiller\u001b[0m\u001b[0;34m.\u001b[0m\u001b[0mfind_optimal_word\u001b[0m\u001b[0;34m(\u001b[0m\u001b[0msentence\u001b[0m\u001b[0;34m)\u001b[0m\u001b[0;34m\u001b[0m\u001b[0;34m\u001b[0m\u001b[0m\n\u001b[0m\u001b[1;32m     37\u001b[0m                 \u001b[0;32mif\u001b[0m \u001b[0mpredicted\u001b[0m \u001b[0;32mis\u001b[0m \u001b[0;32mNone\u001b[0m\u001b[0;34m:\u001b[0m\u001b[0;34m\u001b[0m\u001b[0;34m\u001b[0m\u001b[0m\n\u001b[1;32m     38\u001b[0m                     \u001b[0merrors\u001b[0m \u001b[0;34m+=\u001b[0m \u001b[0;36m1\u001b[0m\u001b[0;34m\u001b[0m\u001b[0;34m\u001b[0m\u001b[0m\n",
      "\u001b[0;32m~/Repositories/robbert/src/wordlistfiller.py\u001b[0m in \u001b[0;36mfind_optimal_word\u001b[0;34m(self, text)\u001b[0m\n\u001b[1;32m     23\u001b[0m             \u001b[0;32mraise\u001b[0m \u001b[0mAttributeError\u001b[0m\u001b[0;34m(\u001b[0m\u001b[0;34m\"No model given to find the optimal word\"\u001b[0m\u001b[0;34m)\u001b[0m\u001b[0;34m\u001b[0m\u001b[0;34m\u001b[0m\u001b[0m\n\u001b[1;32m     24\u001b[0m         \u001b[0mtopk\u001b[0m \u001b[0;34m=\u001b[0m \u001b[0;36m4\u001b[0m\u001b[0;34m\u001b[0m\u001b[0;34m\u001b[0m\u001b[0m\n\u001b[0;32m---> 25\u001b[0;31m         \u001b[0mresult\u001b[0m \u001b[0;34m=\u001b[0m \u001b[0;32mNone\u001b[0m\u001b[0;34m\u001b[0m\u001b[0;34m\u001b[0m\u001b[0m\n\u001b[0m\u001b[1;32m     26\u001b[0m         \u001b[0;32mwhile\u001b[0m \u001b[0mresult\u001b[0m \u001b[0;32mis\u001b[0m \u001b[0;32mNone\u001b[0m \u001b[0;32mand\u001b[0m \u001b[0mtopk\u001b[0m \u001b[0;34m<=\u001b[0m \u001b[0mself\u001b[0m\u001b[0;34m.\u001b[0m\u001b[0m_top_k_limit\u001b[0m\u001b[0;34m:\u001b[0m\u001b[0;34m\u001b[0m\u001b[0;34m\u001b[0m\u001b[0m\n\u001b[1;32m     27\u001b[0m             \u001b[0mfiller_words\u001b[0m \u001b[0;34m=\u001b[0m \u001b[0mself\u001b[0m\u001b[0;34m.\u001b[0m\u001b[0m_model\u001b[0m\u001b[0;34m.\u001b[0m\u001b[0mfill_mask\u001b[0m\u001b[0;34m(\u001b[0m\u001b[0mtext\u001b[0m\u001b[0;34m,\u001b[0m \u001b[0mtopk\u001b[0m\u001b[0;34m=\u001b[0m\u001b[0mtopk\u001b[0m\u001b[0;34m)\u001b[0m\u001b[0;34m\u001b[0m\u001b[0;34m\u001b[0m\u001b[0m\n",
      "\u001b[0;32m/usr/local/lib/python3.6/dist-packages/fairseq/models/roberta/hub_interface.py\u001b[0m in \u001b[0;36mfill_mask\u001b[0;34m(self, masked_input, topk)\u001b[0m\n\u001b[1;32m    160\u001b[0m                 \u001b[0mtokens\u001b[0m\u001b[0;34m.\u001b[0m\u001b[0mlong\u001b[0m\u001b[0;34m(\u001b[0m\u001b[0;34m)\u001b[0m\u001b[0;34m.\u001b[0m\u001b[0mto\u001b[0m\u001b[0;34m(\u001b[0m\u001b[0mdevice\u001b[0m\u001b[0;34m=\u001b[0m\u001b[0mself\u001b[0m\u001b[0;34m.\u001b[0m\u001b[0mdevice\u001b[0m\u001b[0;34m)\u001b[0m\u001b[0;34m,\u001b[0m\u001b[0;34m\u001b[0m\u001b[0;34m\u001b[0m\u001b[0m\n\u001b[1;32m    161\u001b[0m                 \u001b[0mfeatures_only\u001b[0m\u001b[0;34m=\u001b[0m\u001b[0;32mFalse\u001b[0m\u001b[0;34m,\u001b[0m\u001b[0;34m\u001b[0m\u001b[0;34m\u001b[0m\u001b[0m\n\u001b[0;32m--> 162\u001b[0;31m                 \u001b[0mreturn_all_hiddens\u001b[0m\u001b[0;34m=\u001b[0m\u001b[0;32mFalse\u001b[0m\u001b[0;34m,\u001b[0m\u001b[0;34m\u001b[0m\u001b[0;34m\u001b[0m\u001b[0m\n\u001b[0m\u001b[1;32m    163\u001b[0m             )\n\u001b[1;32m    164\u001b[0m         \u001b[0mlogits\u001b[0m \u001b[0;34m=\u001b[0m \u001b[0mfeatures\u001b[0m\u001b[0;34m[\u001b[0m\u001b[0;36m0\u001b[0m\u001b[0;34m,\u001b[0m \u001b[0mmasked_index\u001b[0m\u001b[0;34m,\u001b[0m \u001b[0;34m:\u001b[0m\u001b[0;34m]\u001b[0m\u001b[0;34m.\u001b[0m\u001b[0msqueeze\u001b[0m\u001b[0;34m(\u001b[0m\u001b[0;34m)\u001b[0m\u001b[0;34m\u001b[0m\u001b[0;34m\u001b[0m\u001b[0m\n",
      "\u001b[0;32m/usr/local/lib/python3.6/dist-packages/torch/nn/modules/module.py\u001b[0m in \u001b[0;36m__call__\u001b[0;34m(self, *input, **kwargs)\u001b[0m\n\u001b[1;32m    539\u001b[0m             \u001b[0mresult\u001b[0m \u001b[0;34m=\u001b[0m \u001b[0mself\u001b[0m\u001b[0;34m.\u001b[0m\u001b[0m_slow_forward\u001b[0m\u001b[0;34m(\u001b[0m\u001b[0;34m*\u001b[0m\u001b[0minput\u001b[0m\u001b[0;34m,\u001b[0m \u001b[0;34m**\u001b[0m\u001b[0mkwargs\u001b[0m\u001b[0;34m)\u001b[0m\u001b[0;34m\u001b[0m\u001b[0;34m\u001b[0m\u001b[0m\n\u001b[1;32m    540\u001b[0m         \u001b[0;32melse\u001b[0m\u001b[0;34m:\u001b[0m\u001b[0;34m\u001b[0m\u001b[0;34m\u001b[0m\u001b[0m\n\u001b[0;32m--> 541\u001b[0;31m             \u001b[0mresult\u001b[0m \u001b[0;34m=\u001b[0m \u001b[0mself\u001b[0m\u001b[0;34m.\u001b[0m\u001b[0mforward\u001b[0m\u001b[0;34m(\u001b[0m\u001b[0;34m*\u001b[0m\u001b[0minput\u001b[0m\u001b[0;34m,\u001b[0m \u001b[0;34m**\u001b[0m\u001b[0mkwargs\u001b[0m\u001b[0;34m)\u001b[0m\u001b[0;34m\u001b[0m\u001b[0;34m\u001b[0m\u001b[0m\n\u001b[0m\u001b[1;32m    542\u001b[0m         \u001b[0;32mfor\u001b[0m \u001b[0mhook\u001b[0m \u001b[0;32min\u001b[0m \u001b[0mself\u001b[0m\u001b[0;34m.\u001b[0m\u001b[0m_forward_hooks\u001b[0m\u001b[0;34m.\u001b[0m\u001b[0mvalues\u001b[0m\u001b[0;34m(\u001b[0m\u001b[0;34m)\u001b[0m\u001b[0;34m:\u001b[0m\u001b[0;34m\u001b[0m\u001b[0;34m\u001b[0m\u001b[0m\n\u001b[1;32m    543\u001b[0m             \u001b[0mhook_result\u001b[0m \u001b[0;34m=\u001b[0m \u001b[0mhook\u001b[0m\u001b[0;34m(\u001b[0m\u001b[0mself\u001b[0m\u001b[0;34m,\u001b[0m \u001b[0minput\u001b[0m\u001b[0;34m,\u001b[0m \u001b[0mresult\u001b[0m\u001b[0;34m)\u001b[0m\u001b[0;34m\u001b[0m\u001b[0;34m\u001b[0m\u001b[0m\n",
      "\u001b[0;32m/usr/local/lib/python3.6/dist-packages/fairseq/models/roberta/model.py\u001b[0m in \u001b[0;36mforward\u001b[0;34m(self, src_tokens, features_only, return_all_hiddens, classification_head_name, **kwargs)\u001b[0m\n\u001b[1;32m    102\u001b[0m             \u001b[0mfeatures_only\u001b[0m \u001b[0;34m=\u001b[0m \u001b[0;32mTrue\u001b[0m\u001b[0;34m\u001b[0m\u001b[0;34m\u001b[0m\u001b[0m\n\u001b[1;32m    103\u001b[0m \u001b[0;34m\u001b[0m\u001b[0m\n\u001b[0;32m--> 104\u001b[0;31m         \u001b[0mx\u001b[0m\u001b[0;34m,\u001b[0m \u001b[0mextra\u001b[0m \u001b[0;34m=\u001b[0m \u001b[0mself\u001b[0m\u001b[0;34m.\u001b[0m\u001b[0mdecoder\u001b[0m\u001b[0;34m(\u001b[0m\u001b[0msrc_tokens\u001b[0m\u001b[0;34m,\u001b[0m \u001b[0mfeatures_only\u001b[0m\u001b[0;34m,\u001b[0m \u001b[0mreturn_all_hiddens\u001b[0m\u001b[0;34m,\u001b[0m \u001b[0;34m**\u001b[0m\u001b[0mkwargs\u001b[0m\u001b[0;34m)\u001b[0m\u001b[0;34m\u001b[0m\u001b[0;34m\u001b[0m\u001b[0m\n\u001b[0m\u001b[1;32m    105\u001b[0m \u001b[0;34m\u001b[0m\u001b[0m\n\u001b[1;32m    106\u001b[0m         \u001b[0;32mif\u001b[0m \u001b[0mclassification_head_name\u001b[0m \u001b[0;32mis\u001b[0m \u001b[0;32mnot\u001b[0m \u001b[0;32mNone\u001b[0m\u001b[0;34m:\u001b[0m\u001b[0;34m\u001b[0m\u001b[0;34m\u001b[0m\u001b[0m\n",
      "\u001b[0;32m/usr/local/lib/python3.6/dist-packages/torch/nn/modules/module.py\u001b[0m in \u001b[0;36m__call__\u001b[0;34m(self, *input, **kwargs)\u001b[0m\n\u001b[1;32m    539\u001b[0m             \u001b[0mresult\u001b[0m \u001b[0;34m=\u001b[0m \u001b[0mself\u001b[0m\u001b[0;34m.\u001b[0m\u001b[0m_slow_forward\u001b[0m\u001b[0;34m(\u001b[0m\u001b[0;34m*\u001b[0m\u001b[0minput\u001b[0m\u001b[0;34m,\u001b[0m \u001b[0;34m**\u001b[0m\u001b[0mkwargs\u001b[0m\u001b[0;34m)\u001b[0m\u001b[0;34m\u001b[0m\u001b[0;34m\u001b[0m\u001b[0m\n\u001b[1;32m    540\u001b[0m         \u001b[0;32melse\u001b[0m\u001b[0;34m:\u001b[0m\u001b[0;34m\u001b[0m\u001b[0;34m\u001b[0m\u001b[0m\n\u001b[0;32m--> 541\u001b[0;31m             \u001b[0mresult\u001b[0m \u001b[0;34m=\u001b[0m \u001b[0mself\u001b[0m\u001b[0;34m.\u001b[0m\u001b[0mforward\u001b[0m\u001b[0;34m(\u001b[0m\u001b[0;34m*\u001b[0m\u001b[0minput\u001b[0m\u001b[0;34m,\u001b[0m \u001b[0;34m**\u001b[0m\u001b[0mkwargs\u001b[0m\u001b[0;34m)\u001b[0m\u001b[0;34m\u001b[0m\u001b[0;34m\u001b[0m\u001b[0m\n\u001b[0m\u001b[1;32m    542\u001b[0m         \u001b[0;32mfor\u001b[0m \u001b[0mhook\u001b[0m \u001b[0;32min\u001b[0m \u001b[0mself\u001b[0m\u001b[0;34m.\u001b[0m\u001b[0m_forward_hooks\u001b[0m\u001b[0;34m.\u001b[0m\u001b[0mvalues\u001b[0m\u001b[0;34m(\u001b[0m\u001b[0;34m)\u001b[0m\u001b[0;34m:\u001b[0m\u001b[0;34m\u001b[0m\u001b[0;34m\u001b[0m\u001b[0m\n\u001b[1;32m    543\u001b[0m             \u001b[0mhook_result\u001b[0m \u001b[0;34m=\u001b[0m \u001b[0mhook\u001b[0m\u001b[0;34m(\u001b[0m\u001b[0mself\u001b[0m\u001b[0;34m,\u001b[0m \u001b[0minput\u001b[0m\u001b[0;34m,\u001b[0m \u001b[0mresult\u001b[0m\u001b[0;34m)\u001b[0m\u001b[0;34m\u001b[0m\u001b[0;34m\u001b[0m\u001b[0m\n",
      "\u001b[0;32m/usr/local/lib/python3.6/dist-packages/fairseq/models/roberta/model.py\u001b[0m in \u001b[0;36mforward\u001b[0;34m(self, src_tokens, features_only, return_all_hiddens, masked_tokens, **unused)\u001b[0m\n\u001b[1;32m    349\u001b[0m                   \u001b[0;32mis\u001b[0m \u001b[0ma\u001b[0m \u001b[0mlist\u001b[0m \u001b[0mof\u001b[0m \u001b[0mhidden\u001b[0m \u001b[0mstates\u001b[0m\u001b[0;34m.\u001b[0m\u001b[0;34m\u001b[0m\u001b[0;34m\u001b[0m\u001b[0m\n\u001b[1;32m    350\u001b[0m         \"\"\"\n\u001b[0;32m--> 351\u001b[0;31m         \u001b[0mx\u001b[0m\u001b[0;34m,\u001b[0m \u001b[0mextra\u001b[0m \u001b[0;34m=\u001b[0m \u001b[0mself\u001b[0m\u001b[0;34m.\u001b[0m\u001b[0mextract_features\u001b[0m\u001b[0;34m(\u001b[0m\u001b[0msrc_tokens\u001b[0m\u001b[0;34m,\u001b[0m \u001b[0mreturn_all_hiddens\u001b[0m\u001b[0;34m=\u001b[0m\u001b[0mreturn_all_hiddens\u001b[0m\u001b[0;34m)\u001b[0m\u001b[0;34m\u001b[0m\u001b[0;34m\u001b[0m\u001b[0m\n\u001b[0m\u001b[1;32m    352\u001b[0m         \u001b[0;32mif\u001b[0m \u001b[0;32mnot\u001b[0m \u001b[0mfeatures_only\u001b[0m\u001b[0;34m:\u001b[0m\u001b[0;34m\u001b[0m\u001b[0;34m\u001b[0m\u001b[0m\n\u001b[1;32m    353\u001b[0m             \u001b[0mx\u001b[0m \u001b[0;34m=\u001b[0m \u001b[0mself\u001b[0m\u001b[0;34m.\u001b[0m\u001b[0moutput_layer\u001b[0m\u001b[0;34m(\u001b[0m\u001b[0mx\u001b[0m\u001b[0;34m,\u001b[0m \u001b[0mmasked_tokens\u001b[0m\u001b[0;34m=\u001b[0m\u001b[0mmasked_tokens\u001b[0m\u001b[0;34m)\u001b[0m\u001b[0;34m\u001b[0m\u001b[0;34m\u001b[0m\u001b[0m\n",
      "\u001b[0;32m/usr/local/lib/python3.6/dist-packages/fairseq/models/roberta/model.py\u001b[0m in \u001b[0;36mextract_features\u001b[0;34m(self, src_tokens, return_all_hiddens, **unused)\u001b[0m\n\u001b[1;32m    357\u001b[0m         inner_states, _ = self.sentence_encoder(\n\u001b[1;32m    358\u001b[0m             \u001b[0msrc_tokens\u001b[0m\u001b[0;34m,\u001b[0m\u001b[0;34m\u001b[0m\u001b[0;34m\u001b[0m\u001b[0m\n\u001b[0;32m--> 359\u001b[0;31m             \u001b[0mlast_state_only\u001b[0m\u001b[0;34m=\u001b[0m\u001b[0;32mnot\u001b[0m \u001b[0mreturn_all_hiddens\u001b[0m\u001b[0;34m,\u001b[0m\u001b[0;34m\u001b[0m\u001b[0;34m\u001b[0m\u001b[0m\n\u001b[0m\u001b[1;32m    360\u001b[0m         )\n\u001b[1;32m    361\u001b[0m         \u001b[0mfeatures\u001b[0m \u001b[0;34m=\u001b[0m \u001b[0minner_states\u001b[0m\u001b[0;34m[\u001b[0m\u001b[0;34m-\u001b[0m\u001b[0;36m1\u001b[0m\u001b[0;34m]\u001b[0m\u001b[0;34m\u001b[0m\u001b[0;34m\u001b[0m\u001b[0m\n",
      "\u001b[0;32m/usr/local/lib/python3.6/dist-packages/torch/nn/modules/module.py\u001b[0m in \u001b[0;36m__call__\u001b[0;34m(self, *input, **kwargs)\u001b[0m\n\u001b[1;32m    539\u001b[0m             \u001b[0mresult\u001b[0m \u001b[0;34m=\u001b[0m \u001b[0mself\u001b[0m\u001b[0;34m.\u001b[0m\u001b[0m_slow_forward\u001b[0m\u001b[0;34m(\u001b[0m\u001b[0;34m*\u001b[0m\u001b[0minput\u001b[0m\u001b[0;34m,\u001b[0m \u001b[0;34m**\u001b[0m\u001b[0mkwargs\u001b[0m\u001b[0;34m)\u001b[0m\u001b[0;34m\u001b[0m\u001b[0;34m\u001b[0m\u001b[0m\n\u001b[1;32m    540\u001b[0m         \u001b[0;32melse\u001b[0m\u001b[0;34m:\u001b[0m\u001b[0;34m\u001b[0m\u001b[0;34m\u001b[0m\u001b[0m\n\u001b[0;32m--> 541\u001b[0;31m             \u001b[0mresult\u001b[0m \u001b[0;34m=\u001b[0m \u001b[0mself\u001b[0m\u001b[0;34m.\u001b[0m\u001b[0mforward\u001b[0m\u001b[0;34m(\u001b[0m\u001b[0;34m*\u001b[0m\u001b[0minput\u001b[0m\u001b[0;34m,\u001b[0m \u001b[0;34m**\u001b[0m\u001b[0mkwargs\u001b[0m\u001b[0;34m)\u001b[0m\u001b[0;34m\u001b[0m\u001b[0;34m\u001b[0m\u001b[0m\n\u001b[0m\u001b[1;32m    542\u001b[0m         \u001b[0;32mfor\u001b[0m \u001b[0mhook\u001b[0m \u001b[0;32min\u001b[0m \u001b[0mself\u001b[0m\u001b[0;34m.\u001b[0m\u001b[0m_forward_hooks\u001b[0m\u001b[0;34m.\u001b[0m\u001b[0mvalues\u001b[0m\u001b[0;34m(\u001b[0m\u001b[0;34m)\u001b[0m\u001b[0;34m:\u001b[0m\u001b[0;34m\u001b[0m\u001b[0;34m\u001b[0m\u001b[0m\n\u001b[1;32m    543\u001b[0m             \u001b[0mhook_result\u001b[0m \u001b[0;34m=\u001b[0m \u001b[0mhook\u001b[0m\u001b[0;34m(\u001b[0m\u001b[0mself\u001b[0m\u001b[0;34m,\u001b[0m \u001b[0minput\u001b[0m\u001b[0;34m,\u001b[0m \u001b[0mresult\u001b[0m\u001b[0;34m)\u001b[0m\u001b[0;34m\u001b[0m\u001b[0;34m\u001b[0m\u001b[0m\n",
      "\u001b[0;32m/usr/local/lib/python3.6/dist-packages/fairseq/modules/transformer_sentence_encoder.py\u001b[0m in \u001b[0;36mforward\u001b[0;34m(self, tokens, segment_labels, last_state_only, positions)\u001b[0m\n\u001b[1;32m    194\u001b[0m \u001b[0;34m\u001b[0m\u001b[0m\n\u001b[1;32m    195\u001b[0m         \u001b[0;32mif\u001b[0m \u001b[0mself\u001b[0m\u001b[0;34m.\u001b[0m\u001b[0membed_positions\u001b[0m \u001b[0;32mis\u001b[0m \u001b[0;32mnot\u001b[0m \u001b[0;32mNone\u001b[0m\u001b[0;34m:\u001b[0m\u001b[0;34m\u001b[0m\u001b[0;34m\u001b[0m\u001b[0m\n\u001b[0;32m--> 196\u001b[0;31m             \u001b[0mx\u001b[0m \u001b[0;34m+=\u001b[0m \u001b[0mself\u001b[0m\u001b[0;34m.\u001b[0m\u001b[0membed_positions\u001b[0m\u001b[0;34m(\u001b[0m\u001b[0mtokens\u001b[0m\u001b[0;34m,\u001b[0m \u001b[0mpositions\u001b[0m\u001b[0;34m=\u001b[0m\u001b[0mpositions\u001b[0m\u001b[0;34m)\u001b[0m\u001b[0;34m\u001b[0m\u001b[0;34m\u001b[0m\u001b[0m\n\u001b[0m\u001b[1;32m    197\u001b[0m \u001b[0;34m\u001b[0m\u001b[0m\n\u001b[1;32m    198\u001b[0m         \u001b[0;32mif\u001b[0m \u001b[0mself\u001b[0m\u001b[0;34m.\u001b[0m\u001b[0msegment_embeddings\u001b[0m \u001b[0;32mis\u001b[0m \u001b[0;32mnot\u001b[0m \u001b[0;32mNone\u001b[0m \u001b[0;32mand\u001b[0m \u001b[0msegment_labels\u001b[0m \u001b[0;32mis\u001b[0m \u001b[0;32mnot\u001b[0m \u001b[0;32mNone\u001b[0m\u001b[0;34m:\u001b[0m\u001b[0;34m\u001b[0m\u001b[0;34m\u001b[0m\u001b[0m\n",
      "\u001b[0;32m/usr/local/lib/python3.6/dist-packages/torch/nn/modules/module.py\u001b[0m in \u001b[0;36m__call__\u001b[0;34m(self, *input, **kwargs)\u001b[0m\n\u001b[1;32m    539\u001b[0m             \u001b[0mresult\u001b[0m \u001b[0;34m=\u001b[0m \u001b[0mself\u001b[0m\u001b[0;34m.\u001b[0m\u001b[0m_slow_forward\u001b[0m\u001b[0;34m(\u001b[0m\u001b[0;34m*\u001b[0m\u001b[0minput\u001b[0m\u001b[0;34m,\u001b[0m \u001b[0;34m**\u001b[0m\u001b[0mkwargs\u001b[0m\u001b[0;34m)\u001b[0m\u001b[0;34m\u001b[0m\u001b[0;34m\u001b[0m\u001b[0m\n\u001b[1;32m    540\u001b[0m         \u001b[0;32melse\u001b[0m\u001b[0;34m:\u001b[0m\u001b[0;34m\u001b[0m\u001b[0;34m\u001b[0m\u001b[0m\n\u001b[0;32m--> 541\u001b[0;31m             \u001b[0mresult\u001b[0m \u001b[0;34m=\u001b[0m \u001b[0mself\u001b[0m\u001b[0;34m.\u001b[0m\u001b[0mforward\u001b[0m\u001b[0;34m(\u001b[0m\u001b[0;34m*\u001b[0m\u001b[0minput\u001b[0m\u001b[0;34m,\u001b[0m \u001b[0;34m**\u001b[0m\u001b[0mkwargs\u001b[0m\u001b[0;34m)\u001b[0m\u001b[0;34m\u001b[0m\u001b[0;34m\u001b[0m\u001b[0m\n\u001b[0m\u001b[1;32m    542\u001b[0m         \u001b[0;32mfor\u001b[0m \u001b[0mhook\u001b[0m \u001b[0;32min\u001b[0m \u001b[0mself\u001b[0m\u001b[0;34m.\u001b[0m\u001b[0m_forward_hooks\u001b[0m\u001b[0;34m.\u001b[0m\u001b[0mvalues\u001b[0m\u001b[0;34m(\u001b[0m\u001b[0;34m)\u001b[0m\u001b[0;34m:\u001b[0m\u001b[0;34m\u001b[0m\u001b[0;34m\u001b[0m\u001b[0m\n\u001b[1;32m    543\u001b[0m             \u001b[0mhook_result\u001b[0m \u001b[0;34m=\u001b[0m \u001b[0mhook\u001b[0m\u001b[0;34m(\u001b[0m\u001b[0mself\u001b[0m\u001b[0;34m,\u001b[0m \u001b[0minput\u001b[0m\u001b[0;34m,\u001b[0m \u001b[0mresult\u001b[0m\u001b[0;34m)\u001b[0m\u001b[0;34m\u001b[0m\u001b[0;34m\u001b[0m\u001b[0m\n",
      "\u001b[0;32m/usr/local/lib/python3.6/dist-packages/fairseq/modules/learned_positional_embedding.py\u001b[0m in \u001b[0;36mforward\u001b[0;34m(self, input, incremental_state, positions)\u001b[0m\n\u001b[1;32m     41\u001b[0m                     \u001b[0minput\u001b[0m\u001b[0;34m,\u001b[0m \u001b[0mself\u001b[0m\u001b[0;34m.\u001b[0m\u001b[0mpadding_idx\u001b[0m\u001b[0;34m,\u001b[0m \u001b[0monnx_trace\u001b[0m\u001b[0;34m=\u001b[0m\u001b[0mself\u001b[0m\u001b[0;34m.\u001b[0m\u001b[0monnx_trace\u001b[0m\u001b[0;34m,\u001b[0m\u001b[0;34m\u001b[0m\u001b[0;34m\u001b[0m\u001b[0m\n\u001b[1;32m     42\u001b[0m                 )\n\u001b[0;32m---> 43\u001b[0;31m         \u001b[0;32mreturn\u001b[0m \u001b[0msuper\u001b[0m\u001b[0;34m(\u001b[0m\u001b[0;34m)\u001b[0m\u001b[0;34m.\u001b[0m\u001b[0mforward\u001b[0m\u001b[0;34m(\u001b[0m\u001b[0mpositions\u001b[0m\u001b[0;34m)\u001b[0m\u001b[0;34m\u001b[0m\u001b[0;34m\u001b[0m\u001b[0m\n\u001b[0m\u001b[1;32m     44\u001b[0m \u001b[0;34m\u001b[0m\u001b[0m\n\u001b[1;32m     45\u001b[0m     \u001b[0;32mdef\u001b[0m \u001b[0mmax_positions\u001b[0m\u001b[0;34m(\u001b[0m\u001b[0mself\u001b[0m\u001b[0;34m)\u001b[0m\u001b[0;34m:\u001b[0m\u001b[0;34m\u001b[0m\u001b[0;34m\u001b[0m\u001b[0m\n",
      "\u001b[0;32m/usr/local/lib/python3.6/dist-packages/torch/nn/modules/sparse.py\u001b[0m in \u001b[0;36mforward\u001b[0;34m(self, input)\u001b[0m\n\u001b[1;32m    112\u001b[0m         return F.embedding(\n\u001b[1;32m    113\u001b[0m             \u001b[0minput\u001b[0m\u001b[0;34m,\u001b[0m \u001b[0mself\u001b[0m\u001b[0;34m.\u001b[0m\u001b[0mweight\u001b[0m\u001b[0;34m,\u001b[0m \u001b[0mself\u001b[0m\u001b[0;34m.\u001b[0m\u001b[0mpadding_idx\u001b[0m\u001b[0;34m,\u001b[0m \u001b[0mself\u001b[0m\u001b[0;34m.\u001b[0m\u001b[0mmax_norm\u001b[0m\u001b[0;34m,\u001b[0m\u001b[0;34m\u001b[0m\u001b[0;34m\u001b[0m\u001b[0m\n\u001b[0;32m--> 114\u001b[0;31m             self.norm_type, self.scale_grad_by_freq, self.sparse)\n\u001b[0m\u001b[1;32m    115\u001b[0m \u001b[0;34m\u001b[0m\u001b[0m\n\u001b[1;32m    116\u001b[0m     \u001b[0;32mdef\u001b[0m \u001b[0mextra_repr\u001b[0m\u001b[0;34m(\u001b[0m\u001b[0mself\u001b[0m\u001b[0;34m)\u001b[0m\u001b[0;34m:\u001b[0m\u001b[0;34m\u001b[0m\u001b[0;34m\u001b[0m\u001b[0m\n",
      "\u001b[0;32m/usr/local/lib/python3.6/dist-packages/torch/nn/functional.py\u001b[0m in \u001b[0;36membedding\u001b[0;34m(input, weight, padding_idx, max_norm, norm_type, scale_grad_by_freq, sparse)\u001b[0m\n\u001b[1;32m   1482\u001b[0m         \u001b[0;31m# remove once script supports set_grad_enabled\u001b[0m\u001b[0;34m\u001b[0m\u001b[0;34m\u001b[0m\u001b[0;34m\u001b[0m\u001b[0m\n\u001b[1;32m   1483\u001b[0m         \u001b[0m_no_grad_embedding_renorm_\u001b[0m\u001b[0;34m(\u001b[0m\u001b[0mweight\u001b[0m\u001b[0;34m,\u001b[0m \u001b[0minput\u001b[0m\u001b[0;34m,\u001b[0m \u001b[0mmax_norm\u001b[0m\u001b[0;34m,\u001b[0m \u001b[0mnorm_type\u001b[0m\u001b[0;34m)\u001b[0m\u001b[0;34m\u001b[0m\u001b[0;34m\u001b[0m\u001b[0m\n\u001b[0;32m-> 1484\u001b[0;31m     \u001b[0;32mreturn\u001b[0m \u001b[0mtorch\u001b[0m\u001b[0;34m.\u001b[0m\u001b[0membedding\u001b[0m\u001b[0;34m(\u001b[0m\u001b[0mweight\u001b[0m\u001b[0;34m,\u001b[0m \u001b[0minput\u001b[0m\u001b[0;34m,\u001b[0m \u001b[0mpadding_idx\u001b[0m\u001b[0;34m,\u001b[0m \u001b[0mscale_grad_by_freq\u001b[0m\u001b[0;34m,\u001b[0m \u001b[0msparse\u001b[0m\u001b[0;34m)\u001b[0m\u001b[0;34m\u001b[0m\u001b[0;34m\u001b[0m\u001b[0m\n\u001b[0m\u001b[1;32m   1485\u001b[0m \u001b[0;34m\u001b[0m\u001b[0m\n\u001b[1;32m   1486\u001b[0m \u001b[0;34m\u001b[0m\u001b[0m\n",
      "\u001b[0;31mRuntimeError\u001b[0m: index out of range: Tried to access index 514 out of table with 513 rows. at /pytorch/aten/src/TH/generic/THTensorEvenMoreMath.cpp:418"
     ],
     "ename": "RuntimeError",
     "evalue": "index out of range: Tried to access index 514 out of table with 513 rows. at /pytorch/aten/src/TH/generic/THTensorEvenMoreMath.cpp:418",
     "output_type": "error"
    }
   ],
   "source": [
    "die_dat_correct, die_dat_total, die_dat_errors = evaluate_zeroshot_wordlist.evaluate(\n",
    "    [\"die\", \"dat\"], path=path, model=robbert, print_step=10000)\n",
    "print(\"Die/Dat:\", die_dat_correct/die_dat_total, die_dat_correct, die_dat_total, die_dat_errors)"
   ],
   "metadata": {
    "collapsed": false,
    "pycharm": {
     "name": "#%%\n",
     "is_executing": false
    }
   }
  },
  {
   "cell_type": "code",
   "execution_count": 5,
   "outputs": [
    {
     "name": "stdout",
     "text": [
      "Bertje is loaded\n",
      "94.44% / 9444 / 10000 / 0 errors / die / die / Het is ook wegens de verwoestingen - afhankelijkheid, armoede, gezondheidsproblemen - <mask> drugsverslaving bij onze jongeren aanricht, dat het mij verheugt vast te stellen dat het Nederlandse voorzitterschap van de bestrijding van de internationale criminaliteit en de drugshandel een van zijn prioriteiten heeft gemaakt . Praktische samenwerking tussen de politiediensten, douanediensten en justitiële diensten om de drugshandel actief te bestrijden?\n",
      "94.72% / 18943 / 20000 / 1 errors / dat / dat / We zullen erop toezien dat wij Noorwegen en IJsland nimmer voor verrassingen of voor voldongen feiten stellen op <mask> punt.\n",
      "94.78% / 28433 / 30000 / 2 errors / dat / dat / Ook hoop ik dat Europa's industriëlen hiernaar luisteren en <mask> Total en Club Med in de voetsporen zullen treden van Heineken, Carlsberg, PepsiCo, Levi, Apple en Thomas Cook.\n",
      "94.81% / 37924 / 40000 / 2 errors / dat / dat / Ik wijs er in dit verband op <mask> een van de voorstellen die de Commissie aan de Intergouvernementele Conferentie heeft gedaan, de samensmelting betreft van de drie bestaande Gemeenschappen tot één enkele, wat zal leiden tot grotere duidelijkheid op dit gebied.\n",
      "94.81% / 47404 / 50000 / 2 errors / die / die / Het is zaak eigen Europese minimumnormen vast te stellen <mask> alleen een voldoende bescherming van passagiers, zeelieden en milieu zullen garanderen.\n",
      "94.84% / 56906 / 60000 / 3 errors / dat / dat / Zonder deze hervormingen zal de Unie verwateren . Indien de Unie wordt beroofd van sterke en coherente structuren vrees ik <mask> ze eens zal bezwijken onder de historische opdracht van de uitbreiding.\n",
      "94.80% / 66359 / 70000 / 4 errors / dat / dat / Uit het bovenstaande blijkt <mask> de begrotingsperikelen waarmee wij als Parlement kampen grotendeels het gevolg zijn van beslissingen die de Raad zelf heeft genomen.\n",
      "94.85% / 75878 / 80000 / 4 errors / dat / dat / Mijnheer de Voorzitter, ik wil hier alleen aangeven <mask> mijn naam niet op de presentielijst van gisteren voorkomt, vermoedelijk vanwege nalatigheid mijnerzijds, aangezien ik vergeten heb te tekenen.\n",
      "Error with B4-0825/97 van de leden André-Léonard, Fassa en Bertens, namens de ELDR-Fractie, over de terugtrekking van het VN-onderzoeksteam uit Congo; -B4-0832/97 van de leden Aelvoet en Telkämper, namens de V-Fractie, over de VN-onderzoeksreis naar Congo; -B4-0850/97 van de leden Dury en Swoboda, namens de PSE-Fractie, over de weigering om een onderzoekscommissie van de Verenigde Naties tot de Democratische Republiek Congo toe te laten; -B4-0856/97 van de leden Hory, Dell'Alba en Dupuis, namens de ARE-Fractie, over de onderzoekscommissie van de Verenigde Naties inzake de mensenrechten in de Democratische Republiek Congo; -B4-0863/97 van de leden Chanterie, Stasi, Tindemans, Verwaerde, Maij-Weggen en Oomen-Ruijten, namens de PPE-Fractie, over de situatie in de Democratische Republiek Congo; -B4-0877/97 van de leden Pettinari, Carnero González, Ojala en Sjöstedt, namens de GUE/NGL-Fractie, over de internationale onderzoeksdelegatie van de Verenigde Naties voor de schendingen van de rechten van de mens in het voormalige Zaïre; -B4-0890/97 van de leden Pasty en Azzolini, namens de UPE-Fractie, over de toestand in de Democratische Republiek Congo; -B4-0830/97 van de leden Bertens en Larive, namens de ELDR-Fractie, over het standpunt van de Europese Unie over de bevordering van de rechten van de mens in China; -B4-0847/97 van de heer Swoboda, namens de PSE-Fractie, over de bevordering van de mensenrechten in China; -B4-0855/97 van de leden Dupuis, Dell'Alba en Hory, namens de ARE-Fractie, over het standpunt van de Europese Unie inzake de bevordering van de mensenrechten in China; -B4-0862/97 van de leden McMillan-Scott en Habsburg-Lothringen, namens de PPE-Fractie, over het standpunt van de Europese Unie inzake de bevordering van de mensenrechten in China; -B4-0872/97 van de leden Aglietta en Schroedter, namens de V-Fractie, over de bevordering van de rechten van de mens in China; -B4-0828/97 van de leden Cars en La Malfa, namens de ELDR-Fractie, over de situatie in Kosovo; -B4-0837/97 van de leden Aelvoet, Cohn-Bendit, Gahrton, Müller en Tamino, namens de V-Fractie, over de situatie in Kosovo; -B4-0848/97 van de heer Swoboda, namens de PSE-Fractie, over de situatie in Kosovo; -B4-0854/97 van de leden Dupuis en Dell'Alba, namens de ARE-Fractie, over de situatie in Kosovo; -B4-0865/97 van de leden Oostlander, Pack, Habsburg-Lothringen, Maij-Weggen, Posselt en Oomen-Ruijten, namens de PPE-Fractie, over de situatie in Kosovo; -B4-0878/97 van de leden Manisco, Sjöstedt, Sierra González en Mohammed Alí, namens de GUE/NGLFractie, over de schendingen van de mensenrechten in Kosovo; -B4-0858/97 van de heer Pradier, namens de ARE-Fractie, over de omstandigheden in de detentie-inrichting van Khiam; -B4-0864/97 van de leden Soulier en Peijs, namens de PPE-Fractie, over de situatie van Souha Bechara, <mask> in hechtenis wordt gehouden in Zuid-Libanon; -B4-0879/97 van de leden Wurtz, Castellina, Marset Campos, Miranda, Ephremidis, Alavanos en Seppänen, namens de GUE/NGL-Fractie, over de vrijlating van Souha Bechara; -B4-0849/97 van de leden Hoff, Wiersma, Bösch en Swoboda, namens de PSE-Fractie, over de politieke situatie in Slowakije; -B4-0827/97 van de leden André-Léonard, Fassa, Bertens en Nordmann, namens de ELDR-Fractie, over Algerije.\t0\n",
      "\n",
      "94.88% / 85394 / 90000 / 5 errors / dat / dat / Met onze amendementen trachten wij ertoe bij te dragen dat het Fonds zo goed mogelijk wordt gecoördineerd, <mask> het additioneel en ter vergroting van het eigen potentieel wordt aangewend en dat de publieke opinie er kennis van neemt en het op zijn waarde kan schatten.\n",
      "94.86% / 94863 / 100000 / 6 errors / dat / dat / Ik verwacht van de Commissie <mask> zij daartegen optreedt.\n",
      "94.83% / 104309 / 110000 / 7 errors / dat / dat / Mijnheer de Voorzitter, dames en heren, het is goed <mask> het Eurodac-systeem de mogelijkheid biedt de misbruiken tegen te gaan die om de meest uiteenlopende redenen van het asielrecht worden gemaakt.\n",
      "94.87% / 113844 / 120000 / 7 errors / dat / dat / Zoals een van mijn kiezers uit Swindon vroeg:``De ruimte voor gekissebis over wat een``miniem gebrek aan gelijkvormigheid\"voorstelt, is grenzeloos en consumenten zonder scrupules worden er wellicht toe aangemoedigd om de onzekerheid uit te buiten die door deze voorstellen wordt gecreëerd, wat ertoe zal leiden <mask> de rechtbanken een overvloed aan zaken te verwerken zullen krijgen.\n",
      "94.86% / 123317 / 130000 / 7 errors / dat / dat / Mijnheer de Voorzitter, ik was zeer geïnteresseerd in uw antwoord aan de heer McMahon, waarin u zei <mask>, als de regels of de procedures zouden worden gewijzigd, u ze vanzelfsprekend zou verwijzen naar de Commissie Reglement, onderzoek geloofsbrieven en immuniteiten.\n",
      "94.83% / 132762 / 140000 / 7 errors / dat / dat / Wat betekent anders <mask> de lidstaten zelf kunnen beslissen welke grenswaarden zij vaststellen?\n",
      "94.83% / 142251 / 150000 / 7 errors / die / die / Wat betreft de overheidssteun aan de landbouw die nog altijd noodzakelijk is, zijn wij van mening dat <mask> op de lange termijn slechts door de Europese belastingbetaler en door onze concurrenten binnen de WHO zal worden geaccepteerd, als rekening wordt gehouden met gerechtvaardigde sociale, ecologische en streekgebonden zorgen.\n",
      "94.85% / 151755 / 160000 / 8 errors / die / die / Als we dus Europese verkiezingen gaan steunen <mask> de nationaliteitsgrenzen overschrijden, keren we onze rug naar nationale vertegenwoordiging.\n",
      "94.85% / 161249 / 170000 / 8 errors / die / die / De EU is via verschillende lidstaten en via het voorzitterschap actief betrokken bij het werk van de contactgroep, <mask> een document met opties voor de toekomstige status van Kosovo heeft uitgewerkt en dit heeft overhandigd aan de strijdende partijen.\n",
      "94.85% / 170726 / 180000 / 8 errors / dat / dat / Volgens mijn berekening hebt u uw spreektijd met 20% overschreden . U bent echter zo onderhoudend dat wij <mask> niet erg vinden.\n",
      "94.86% / 180232 / 190000 / 8 errors / dat / dat / Het tweede probleem <mask> mij voor de kwijting voor 1996 relevant lijkt, is de vraag hoe de Commissie omgaat met disciplinaire procedures.\n",
      "94.88% / 189764 / 200000 / 8 errors / dat / dat / Zij heeft er in dit verband op gewezen <mask> amendementen die onverenigbaar zijn met het voorstel van de bevoegde commissie niet ontvankelijk zijn.\n",
      "Error with A4-0437/98 van de heer Elchlepp, over het voorstel voor een besluit van de Raad en de Commissie inzake het door de Gemeenschap in te nemen standpunt in de Associatieraad <mask> werd ingesteld bij de Europa-Overeenkomst tussen de Europese Gemeenschappen en hun lidstaten, enerzijds, en de Republiek Litouwen, anderzijds, ten aanzien van de vaststelling van uitvoeringsbepalingen voor artikel 64, lid 1, sub i) en ii), en lid 2, van de Europa-Overeenkomst (4216/98 - COM (98) 0119 - C4-0592/98-98/0075 (CNS) ); -A4-0443/98 van de heer Seppänen, over het voorstel voor een besluit van de Raad en de Commissie inzake het door de Gemeenschap in te nemen standpunt in de Associatieraad die werd ingesteld bij de Europa-Overeenkomst tussen de Europese Gemeenschappen en hun lidstaten, enerzijds, en de Republiek Letland, anderzijds, ten aanzien van de vaststelling van uitvoeringsbepalingen voor artikel 64, lid 1, sub i) en ii), en lid 2, van de Europa-Overeenkomst (4215/98 - COM (98) 0068 - C4-0593/98-98/0076 (CNS) ); -A4-0472/98 van de heer van Dam, over het voorstel voor een besluit van de Raad en de Commissie inzake het door de Gemeenschap in te nemen standpunt in de Associatieraad die werd ingesteld bij de Europa-Overeenkomst tussen de Europese Gemeenschappen en hun lidstaten, enerzijds, en de Republiek Estland, anderzijds, ten aanzien van de vaststelling van uitvoeringsbepalingen voor artikel 63, lid 1, sub i) en ii), en lid 2, van de Europa-Overeenkomst (4214/98 - COM (98) 0118 - C4-0594/98-98/0077 (CNS) ) en-A4-0419/98 van de heer Schwaiger, over het voorstel voor een besluit van de Raad en de Commissie betreffende het standpunt dat de Gemeenschap zal innemen in de Associatieraad die is ingesteld bij de Europa-Overeenkomst tussen de Europese Gemeenschappen en hun lidstaten, enerzijds, en Roemenië, anderzijds, die op 1 februari 1993 in Brussel werd ondertekend, inzake de vaststelling van de voorschriften voor de tenuitvoerlegging van artikel 64, lid 1, sub i) en ii), en lid 2, van de Europa-Overeenkomst en voor de tenuitvoerlegging van artikel 9, lid 1, sub 1) en 2), van Protocol 2 betreffende EGKS-producten bij de Europa-Overeenkomst (COM (98) 0236 - C4-0275/98-98/0139 (CNS) ).\t0\n",
      "\n",
      "Error with A4-0437/98 van de heer Elchlepp, over het voorstel voor een besluit van de Raad en de Commissie inzake het door de Gemeenschap in te nemen standpunt in de Associatieraad die werd ingesteld bij de Europa-Overeenkomst tussen de Europese Gemeenschappen en hun lidstaten, enerzijds, en de Republiek Litouwen, anderzijds, ten aanzien van de vaststelling van uitvoeringsbepalingen voor artikel 64, lid 1, sub i) en ii), en lid 2, van de Europa-Overeenkomst (4216/98 - COM (98) 0119 - C4-0592/98-98/0075 (CNS) ); -A4-0443/98 van de heer Seppänen, over het voorstel voor een besluit van de Raad en de Commissie inzake het door de Gemeenschap in te nemen standpunt in de Associatieraad <mask> werd ingesteld bij de Europa-Overeenkomst tussen de Europese Gemeenschappen en hun lidstaten, enerzijds, en de Republiek Letland, anderzijds, ten aanzien van de vaststelling van uitvoeringsbepalingen voor artikel 64, lid 1, sub i) en ii), en lid 2, van de Europa-Overeenkomst (4215/98 - COM (98) 0068 - C4-0593/98-98/0076 (CNS) ); -A4-0472/98 van de heer van Dam, over het voorstel voor een besluit van de Raad en de Commissie inzake het door de Gemeenschap in te nemen standpunt in de Associatieraad die werd ingesteld bij de Europa-Overeenkomst tussen de Europese Gemeenschappen en hun lidstaten, enerzijds, en de Republiek Estland, anderzijds, ten aanzien van de vaststelling van uitvoeringsbepalingen voor artikel 63, lid 1, sub i) en ii), en lid 2, van de Europa-Overeenkomst (4214/98 - COM (98) 0118 - C4-0594/98-98/0077 (CNS) ) en-A4-0419/98 van de heer Schwaiger, over het voorstel voor een besluit van de Raad en de Commissie betreffende het standpunt dat de Gemeenschap zal innemen in de Associatieraad die is ingesteld bij de Europa-Overeenkomst tussen de Europese Gemeenschappen en hun lidstaten, enerzijds, en Roemenië, anderzijds, die op 1 februari 1993 in Brussel werd ondertekend, inzake de vaststelling van de voorschriften voor de tenuitvoerlegging van artikel 64, lid 1, sub i) en ii), en lid 2, van de Europa-Overeenkomst en voor de tenuitvoerlegging van artikel 9, lid 1, sub 1) en 2), van Protocol 2 betreffende EGKS-producten bij de Europa-Overeenkomst (COM (98) 0236 - C4-0275/98-98/0139 (CNS) ).\t0\n",
      "\n",
      "Error with A4-0437/98 van de heer Elchlepp, over het voorstel voor een besluit van de Raad en de Commissie inzake het door de Gemeenschap in te nemen standpunt in de Associatieraad die werd ingesteld bij de Europa-Overeenkomst tussen de Europese Gemeenschappen en hun lidstaten, enerzijds, en de Republiek Litouwen, anderzijds, ten aanzien van de vaststelling van uitvoeringsbepalingen voor artikel 64, lid 1, sub i) en ii), en lid 2, van de Europa-Overeenkomst (4216/98 - COM (98) 0119 - C4-0592/98-98/0075 (CNS) ); -A4-0443/98 van de heer Seppänen, over het voorstel voor een besluit van de Raad en de Commissie inzake het door de Gemeenschap in te nemen standpunt in de Associatieraad die werd ingesteld bij de Europa-Overeenkomst tussen de Europese Gemeenschappen en hun lidstaten, enerzijds, en de Republiek Letland, anderzijds, ten aanzien van de vaststelling van uitvoeringsbepalingen voor artikel 64, lid 1, sub i) en ii), en lid 2, van de Europa-Overeenkomst (4215/98 - COM (98) 0068 - C4-0593/98-98/0076 (CNS) ); -A4-0472/98 van de heer van Dam, over het voorstel voor een besluit van de Raad en de Commissie inzake het door de Gemeenschap in te nemen standpunt in de Associatieraad <mask> werd ingesteld bij de Europa-Overeenkomst tussen de Europese Gemeenschappen en hun lidstaten, enerzijds, en de Republiek Estland, anderzijds, ten aanzien van de vaststelling van uitvoeringsbepalingen voor artikel 63, lid 1, sub i) en ii), en lid 2, van de Europa-Overeenkomst (4214/98 - COM (98) 0118 - C4-0594/98-98/0077 (CNS) ) en-A4-0419/98 van de heer Schwaiger, over het voorstel voor een besluit van de Raad en de Commissie betreffende het standpunt dat de Gemeenschap zal innemen in de Associatieraad die is ingesteld bij de Europa-Overeenkomst tussen de Europese Gemeenschappen en hun lidstaten, enerzijds, en Roemenië, anderzijds, die op 1 februari 1993 in Brussel werd ondertekend, inzake de vaststelling van de voorschriften voor de tenuitvoerlegging van artikel 64, lid 1, sub i) en ii), en lid 2, van de Europa-Overeenkomst en voor de tenuitvoerlegging van artikel 9, lid 1, sub 1) en 2), van Protocol 2 betreffende EGKS-producten bij de Europa-Overeenkomst (COM (98) 0236 - C4-0275/98-98/0139 (CNS) ).\t0\n",
      "\n",
      "Error with A4-0437/98 van de heer Elchlepp, over het voorstel voor een besluit van de Raad en de Commissie inzake het door de Gemeenschap in te nemen standpunt in de Associatieraad die werd ingesteld bij de Europa-Overeenkomst tussen de Europese Gemeenschappen en hun lidstaten, enerzijds, en de Republiek Litouwen, anderzijds, ten aanzien van de vaststelling van uitvoeringsbepalingen voor artikel 64, lid 1, sub i) en ii), en lid 2, van de Europa-Overeenkomst (4216/98 - COM (98) 0119 - C4-0592/98-98/0075 (CNS) ); -A4-0443/98 van de heer Seppänen, over het voorstel voor een besluit van de Raad en de Commissie inzake het door de Gemeenschap in te nemen standpunt in de Associatieraad die werd ingesteld bij de Europa-Overeenkomst tussen de Europese Gemeenschappen en hun lidstaten, enerzijds, en de Republiek Letland, anderzijds, ten aanzien van de vaststelling van uitvoeringsbepalingen voor artikel 64, lid 1, sub i) en ii), en lid 2, van de Europa-Overeenkomst (4215/98 - COM (98) 0068 - C4-0593/98-98/0076 (CNS) ); -A4-0472/98 van de heer van Dam, over het voorstel voor een besluit van de Raad en de Commissie inzake het door de Gemeenschap in te nemen standpunt in de Associatieraad die werd ingesteld bij de Europa-Overeenkomst tussen de Europese Gemeenschappen en hun lidstaten, enerzijds, en de Republiek Estland, anderzijds, ten aanzien van de vaststelling van uitvoeringsbepalingen voor artikel 63, lid 1, sub i) en ii), en lid 2, van de Europa-Overeenkomst (4214/98 - COM (98) 0118 - C4-0594/98-98/0077 (CNS) ) en-A4-0419/98 van de heer Schwaiger, over het voorstel voor een besluit van de Raad en de Commissie betreffende het standpunt <mask> de Gemeenschap zal innemen in de Associatieraad die is ingesteld bij de Europa-Overeenkomst tussen de Europese Gemeenschappen en hun lidstaten, enerzijds, en Roemenië, anderzijds, die op 1 februari 1993 in Brussel werd ondertekend, inzake de vaststelling van de voorschriften voor de tenuitvoerlegging van artikel 64, lid 1, sub i) en ii), en lid 2, van de Europa-Overeenkomst en voor de tenuitvoerlegging van artikel 9, lid 1, sub 1) en 2), van Protocol 2 betreffende EGKS-producten bij de Europa-Overeenkomst (COM (98) 0236 - C4-0275/98-98/0139 (CNS) ).\t1\n",
      "\n",
      "Error with A4-0437/98 van de heer Elchlepp, over het voorstel voor een besluit van de Raad en de Commissie inzake het door de Gemeenschap in te nemen standpunt in de Associatieraad die werd ingesteld bij de Europa-Overeenkomst tussen de Europese Gemeenschappen en hun lidstaten, enerzijds, en de Republiek Litouwen, anderzijds, ten aanzien van de vaststelling van uitvoeringsbepalingen voor artikel 64, lid 1, sub i) en ii), en lid 2, van de Europa-Overeenkomst (4216/98 - COM (98) 0119 - C4-0592/98-98/0075 (CNS) ); -A4-0443/98 van de heer Seppänen, over het voorstel voor een besluit van de Raad en de Commissie inzake het door de Gemeenschap in te nemen standpunt in de Associatieraad die werd ingesteld bij de Europa-Overeenkomst tussen de Europese Gemeenschappen en hun lidstaten, enerzijds, en de Republiek Letland, anderzijds, ten aanzien van de vaststelling van uitvoeringsbepalingen voor artikel 64, lid 1, sub i) en ii), en lid 2, van de Europa-Overeenkomst (4215/98 - COM (98) 0068 - C4-0593/98-98/0076 (CNS) ); -A4-0472/98 van de heer van Dam, over het voorstel voor een besluit van de Raad en de Commissie inzake het door de Gemeenschap in te nemen standpunt in de Associatieraad die werd ingesteld bij de Europa-Overeenkomst tussen de Europese Gemeenschappen en hun lidstaten, enerzijds, en de Republiek Estland, anderzijds, ten aanzien van de vaststelling van uitvoeringsbepalingen voor artikel 63, lid 1, sub i) en ii), en lid 2, van de Europa-Overeenkomst (4214/98 - COM (98) 0118 - C4-0594/98-98/0077 (CNS) ) en-A4-0419/98 van de heer Schwaiger, over het voorstel voor een besluit van de Raad en de Commissie betreffende het standpunt dat de Gemeenschap zal innemen in de Associatieraad <mask> is ingesteld bij de Europa-Overeenkomst tussen de Europese Gemeenschappen en hun lidstaten, enerzijds, en Roemenië, anderzijds, die op 1 februari 1993 in Brussel werd ondertekend, inzake de vaststelling van de voorschriften voor de tenuitvoerlegging van artikel 64, lid 1, sub i) en ii), en lid 2, van de Europa-Overeenkomst en voor de tenuitvoerlegging van artikel 9, lid 1, sub 1) en 2), van Protocol 2 betreffende EGKS-producten bij de Europa-Overeenkomst (COM (98) 0236 - C4-0275/98-98/0139 (CNS) ).\t0\n",
      "\n",
      "Error with A4-0437/98 van de heer Elchlepp, over het voorstel voor een besluit van de Raad en de Commissie inzake het door de Gemeenschap in te nemen standpunt in de Associatieraad die werd ingesteld bij de Europa-Overeenkomst tussen de Europese Gemeenschappen en hun lidstaten, enerzijds, en de Republiek Litouwen, anderzijds, ten aanzien van de vaststelling van uitvoeringsbepalingen voor artikel 64, lid 1, sub i) en ii), en lid 2, van de Europa-Overeenkomst (4216/98 - COM (98) 0119 - C4-0592/98-98/0075 (CNS) ); -A4-0443/98 van de heer Seppänen, over het voorstel voor een besluit van de Raad en de Commissie inzake het door de Gemeenschap in te nemen standpunt in de Associatieraad die werd ingesteld bij de Europa-Overeenkomst tussen de Europese Gemeenschappen en hun lidstaten, enerzijds, en de Republiek Letland, anderzijds, ten aanzien van de vaststelling van uitvoeringsbepalingen voor artikel 64, lid 1, sub i) en ii), en lid 2, van de Europa-Overeenkomst (4215/98 - COM (98) 0068 - C4-0593/98-98/0076 (CNS) ); -A4-0472/98 van de heer van Dam, over het voorstel voor een besluit van de Raad en de Commissie inzake het door de Gemeenschap in te nemen standpunt in de Associatieraad die werd ingesteld bij de Europa-Overeenkomst tussen de Europese Gemeenschappen en hun lidstaten, enerzijds, en de Republiek Estland, anderzijds, ten aanzien van de vaststelling van uitvoeringsbepalingen voor artikel 63, lid 1, sub i) en ii), en lid 2, van de Europa-Overeenkomst (4214/98 - COM (98) 0118 - C4-0594/98-98/0077 (CNS) ) en-A4-0419/98 van de heer Schwaiger, over het voorstel voor een besluit van de Raad en de Commissie betreffende het standpunt dat de Gemeenschap zal innemen in de Associatieraad die is ingesteld bij de Europa-Overeenkomst tussen de Europese Gemeenschappen en hun lidstaten, enerzijds, en Roemenië, anderzijds, <mask> op 1 februari 1993 in Brussel werd ondertekend, inzake de vaststelling van de voorschriften voor de tenuitvoerlegging van artikel 64, lid 1, sub i) en ii), en lid 2, van de Europa-Overeenkomst en voor de tenuitvoerlegging van artikel 9, lid 1, sub 1) en 2), van Protocol 2 betreffende EGKS-producten bij de Europa-Overeenkomst (COM (98) 0236 - C4-0275/98-98/0139 (CNS) ).\t0\n",
      "\n",
      "94.88% / 199250 / 210000 / 16 errors / dat / dat / Mevrouw de Voorzitter, dames en heren, allereerst wil ik u hartelijk danken voor het vriendelijke onthaal en voor het feit <mask> ik er in het Europees Parlement voor het eerst officieel als fungerend voorzitter van de Raad van ministers van Landbouw en Visserij bij mag zijn en het woord tot u mag richten.\n",
      "94.90% / 208778 / 220000 / 16 errors / die / die / Ik kan daarom geen amendementen overnemen <mask> dat op de helling zetten.\n",
      "94.89% / 218250 / 230000 / 16 errors / die / die / Strafheffingen <mask> de EU-landen echter verschillend treffen, beïnvloeden de comparatieve kosten- en concurrentiepositie op de interne markt.\n",
      "94.92% / 227796 / 240000 / 17 errors / die / die / De doelstellingen zijn: ten eerste het garanderen van het recht op regelmatige informatie en raadpleging van werknemers over de economische en strategische ontwikkelingen van de onderneming en over de voor hen belangrijke beslissingen; ten tweede de versterking van de sociale dialoog en het wederzijds vertrouwen binnen de onderneming, om bij te kunnen dragen aan het voorspellen van eventuele risico's, de ontwikkeling van de flexibiliteit in de arbeidsorganisatie in een zeker kader, de bewustmaking van de werknemers met betrekking tot de noodzaak van aanpassing en aan hun bereidheid om actief mee te werken aan maatregelen en acties ter verhoging van hun vakbekwaamheid en inzetbaarheid; ten derde de opneming van het werkgelegenheidsvraagstuk - de toestand daarvan en de te verwachten ontwikkeling - in de informatie- en raadplegingsprocedures; ten vierde de verzekering van voorafgaande informatie en raadpleging van de werknemers bij beslissingen <mask> kunnen leiden tot ingrijpende veranderingen in de arbeidsorganisatie of de arbeidsovereenkomsten en ten vijfde de verbetering van de doeltreffendheid van deze procedure via de vaststelling van specifieke sancties voor ernstige schendingen van de opgelegde verplichtingen.\n",
      "94.91% / 237282 / 250000 / 17 errors / die / die / Geen woord van veroordeling of zelfs maar spijt voor de ontoelaatbare militaire agressie tegen een Europese staat, door een NAVO <mask> blindelings vrouwen en kinderen doodt.\n",
      "94.89% / 246714 / 260000 / 17 errors / die / die / Met veel genoegen heb ik deelgenomen aan deze belangrijke democratische gebeurtenis, <mask> in de Europese politiek zijn weerga niet kent.\n",
      "94.92% / 256276 / 270000 / 17 errors / die / die / Maar de inwerkingtreding van dit Verdrag in de VS zou regionale kernmachten onder enorme druk hebben gezet om toe te treden tot het Verdrag . Denk maar aan India en Pakistan, <mask> bezig zijn hun eigen regionale afschrikkingsevenwicht op te bouwen, of Noord-Korea, Iran, Irak of Israël.\n",
      "94.93% / 265800 / 280000 / 17 errors / dat / dat / Maar het geeft hoop dat bad practices op basis van goede gegevens vergeleken kunnen worden en <mask> een humaan en effectief drugsbeleid ook in een geïntegreerde Europese Unie mogelijk worden.\n",
      "Die/Dat: 0.9493557803177989 274173 288799 18\n"
     ],
     "output_type": "stream"
    }
   ],
   "source": [
    "bertje = BertMaskedLMAdapter(model_name=\"wietsedv/bert-base-dutch-cased\")\n",
    "print(\"Bertje is loaded\")\n",
    "\n",
    "\n",
    "die_dat_correct_bertje, die_dat_total_bertje, die_dat_errors_bertje = evaluate_zeroshot_wordlist.evaluate(\n",
    "    [\"die\", \"dat\"], path=path, model=bertje, print_step=10000)\n",
    "print(\"Die/Dat:\", die_dat_correct_bertje/die_dat_total_bertje,\n",
    "      die_dat_correct_bertje, die_dat_total_bertje, die_dat_errors_bertje)"
   ],
   "metadata": {
    "collapsed": false,
    "pycharm": {
     "name": "#%%\n",
     "is_executing": false
    }
   }
  },
  {
   "cell_type": "code",
   "execution_count": null,
   "outputs": [
    {
     "name": "stdout",
     "text": [
      "Multilingual Bert is loaded\n"
     ],
     "output_type": "stream"
    }
   ],
   "source": [
    "mbert = BertMaskedLMAdapter(model_name=\"bert-base-multilingual-uncased\")\n",
    "print(\"Multilingual Bert is loaded\")\n",
    "\n",
    "\n",
    "die_dat_correct_mbert, die_dat_total_mbert, die_dat_errors_mbert = evaluate_zeroshot_wordlist.evaluate(\n",
    "    [\"die\", \"dat\"], path=path, model=mbert, print_step=10000)\n",
    "print(\"Die/Dat:\", die_dat_correct_mbert/die_dat_total_mbert,\n",
    "      die_dat_correct_mbert, die_dat_total_mbert, die_dat_errors_mbert)\n",
    "\n",
    "\n"
   ],
   "metadata": {
    "collapsed": false,
    "pycharm": {
     "name": "#%%\n",
     "is_executing": true
    }
   }
  }
 ],
 "metadata": {
  "kernelspec": {
   "name": "pycharm-aa63506c",
   "language": "python",
   "display_name": "PyCharm (nl-bert)"
  },
  "language_info": {
   "codemirror_mode": {
    "name": "ipython",
    "version": 2
   },
   "file_extension": ".py",
   "mimetype": "text/x-python",
   "name": "python",
   "nbconvert_exporter": "python",
   "pygments_lexer": "ipython2",
   "version": "2.7.6"
  },
  "pycharm": {
   "stem_cell": {
    "cell_type": "raw",
    "source": [],
    "metadata": {
     "collapsed": false
    }
   }
  }
 },
 "nbformat": 4,
 "nbformat_minor": 0
}